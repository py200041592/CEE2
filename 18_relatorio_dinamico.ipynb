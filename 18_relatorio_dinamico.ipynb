{
  "nbformat": 4,
  "nbformat_minor": 0,
  "metadata": {
    "colab": {
      "provenance": [],
      "include_colab_link": true
    },
    "kernelspec": {
      "name": "python3",
      "display_name": "Python 3"
    },
    "language_info": {
      "name": "python"
    }
  },
  "cells": [
    {
      "cell_type": "markdown",
      "metadata": {
        "id": "view-in-github",
        "colab_type": "text"
      },
      "source": [
        "<a href=\"https://colab.research.google.com/github/py200041592/CEE2/blob/main/18_relatorio_dinamico.ipynb\" target=\"_parent\"><img src=\"https://colab.research.google.com/assets/colab-badge.svg\" alt=\"Open In Colab\"/></a>"
      ]
    },
    {
      "cell_type": "markdown",
      "source": [
        "# Relatório Dinâmico\n",
        "\n",
        "A estrutura de texto em notebooks (como os do Jupyter Notebook e Colab) é organizada em células. Essas células podem conter diferentes tipos de conteúdo: código, texto ou saída do código. Vamos explorar como isso funciona.\n",
        "\n",
        "O nome \"notebook\" vem da analogia com um caderno de anotações físico, onde você pode organizar pensamentos e ideias de forma sequencial. Da mesma forma, em notebooks Python, é possível intercalar blocos de código com texto explicativo, como em um diário de laboratório ou caderno de estudos.\n",
        "\n",
        "---"
      ],
      "metadata": {
        "id": "DE2zK2x55qzU"
      }
    },
    {
      "cell_type": "markdown",
      "source": [
        "## 1. Célula de Código/Saída\n",
        "\n",
        "As células de código em notebooks Python permitem escrever e executar códigos diretamente no ambiente do notebook, facilitando a execução e apresentação dos resultados de forma interativa. Desta forma, podemos gerar relatórios dinâmicos e automatizados.\n"
      ],
      "metadata": {
        "id": "SLUjiYqI5tlg"
      }
    },
    {
      "cell_type": "markdown",
      "source": [
        "### Exemplo:\n",
        "\n",
        "As duas células abaixo apresentam códigos com as seguintes funcionalidades:\n",
        "\n",
        "- Baixar a série temporal diária da ação da Petrobrás entre 01/01/2018 e 31/12/2024;\n",
        "\n",
        "- Apresentar um resumo da estrutura dos dados;\n",
        "\n",
        "- Apresentar um gráfico dos valores de fechamento;"
      ],
      "metadata": {
        "id": "_zC0xGZi8Zfj"
      }
    },
    {
      "cell_type": "code",
      "source": [
        "# Importando as bibliotecas necessárias\n",
        "import yfinance as yf\n",
        "import matplotlib.pyplot as plt\n",
        "\n",
        "# Definir o ativo, intervalo de tempo e o período de dados\n",
        "ativo = 'PETR4.SA'     # Ticker da ação ou ativo (exemplo: 'AAPL' para Apple)\n",
        "inicio = '2018-01-01'  # Data de início (formato: 'YYYY-MM-DD')\n",
        "fim = '2024-12-31'     # Data de fim (formato: 'YYYY-MM-DD')\n",
        "\n",
        "# Baixando os dados financeiros\n",
        "dados = yf.download(ativo, start=inicio, end=fim)\n",
        "\n",
        "# Exibindo as primeiras linhas dos dados baixados\n",
        "print(\"\\nResumo dos dados:\\n\")\n",
        "print(dados)"
      ],
      "metadata": {
        "id": "mGf5nJp78FQO",
        "colab": {
          "base_uri": "https://localhost:8080/"
        },
        "outputId": "9ffbdbd2-00b3-4bf6-91b6-986f078693ba"
      },
      "execution_count": null,
      "outputs": [
        {
          "output_type": "stream",
          "name": "stdout",
          "text": [
            "YF.download() has changed argument auto_adjust default to True\n"
          ]
        },
        {
          "output_type": "stream",
          "name": "stderr",
          "text": [
            "\r[*********************100%***********************]  1 of 1 completed"
          ]
        },
        {
          "output_type": "stream",
          "name": "stdout",
          "text": [
            "\n",
            "Resumo dos dados:\n",
            "\n",
            "Price           Close       High        Low       Open    Volume\n",
            "Ticker       PETR4.SA   PETR4.SA   PETR4.SA   PETR4.SA  PETR4.SA\n",
            "Date                                                            \n",
            "2018-01-02   5.932734   5.932734   5.803684   5.803684  33461800\n",
            "2018-01-03   5.986507   5.993676   5.868211   5.911227  55940900\n",
            "2018-01-04   5.997260   6.079708   5.957828   6.015184  37064900\n",
            "2018-01-05   6.033108   6.043863   5.939905   5.986507  26958200\n",
            "2018-01-08   6.104804   6.104804   5.990092   6.000846  28400000\n",
            "...               ...        ...        ...        ...       ...\n",
            "2024-12-20  34.918674  35.392469  34.786013  35.212429  59277400\n",
            "2024-12-23  34.928150  35.108191  34.795488  35.060812  43785600\n",
            "2024-12-26  33.895279  34.113224  33.734187  33.762617  22920700\n",
            "2024-12-27  33.791046  34.113227  33.743667  34.113227  24167200\n",
            "2024-12-30  34.293266  34.463833  33.895280  33.904755  22355600\n",
            "\n",
            "[1738 rows x 5 columns]\n"
          ]
        },
        {
          "output_type": "stream",
          "name": "stderr",
          "text": [
            "\n"
          ]
        }
      ]
    },
    {
      "cell_type": "code",
      "source": [
        "# Gerando o gráfico de preços de fechamento\n",
        "plt.figure(figsize=(7, 4))\n",
        "plt.plot(dados['Close'], label=f'{ativo} - Fechamento')\n",
        "plt.title(f'Preço de Fechamento de {ativo} ({inicio} até {fim})')\n",
        "plt.xlabel('Data')\n",
        "plt.ylabel('Preço de Fechamento (USD)')\n",
        "plt.grid(True)\n",
        "plt.legend()\n",
        "plt.show()"
      ],
      "metadata": {
        "id": "xgBR1Val9f5G",
        "colab": {
          "base_uri": "https://localhost:8080/",
          "height": 411
        },
        "outputId": "376ac4ca-13db-4f03-9f72-20e156d61963"
      },
      "execution_count": null,
      "outputs": [
        {
          "output_type": "display_data",
          "data": {
            "text/plain": [
              "<Figure size 700x400 with 1 Axes>"
            ],
            "image/png": "[encoded data removed]"
          },
          "metadata": {}
        }
      ]
    },
    {
      "cell_type": "markdown",
      "source": [
        "---\n",
        "## 2. Célula de Texto\n",
        "\n",
        "As células de textos são geradas utilizando um linguagem conhecida como\n",
        "**Markdown**.\n",
        "\n"
      ],
      "metadata": {
        "id": "uCUzWbJr6PXK"
      }
    },
    {
      "cell_type": "markdown",
      "source": [
        "### O que é Markdown?\n",
        "\n",
        "Markdown é uma linguagem de marcação leve e prática. Suas principais características incluem:\n",
        "\n",
        "- **Simplicidade**: Utiliza uma sintaxe fácil de aprender, baseada em símbolos comuns, como `#` para títulos e `*` para listas.\n",
        "- **Legibilidade**: O texto permanece legível tanto no formato bruto quanto renderizado.\n",
        "- **Versatilidade**: Permite criar:\n",
        "  - Títulos e subtítulos.\n",
        "  - Listas ordenadas e não ordenadas.\n",
        "  - Tabelas.\n",
        "  - Links e imagens.\n",
        "  - Blocos de código.\n",
        "- **Uso amplo**: Comumente utilizada em:\n",
        "  - Documentos técnicos (Colab, Jupyter, R Studio).\n",
        "  - Blogs e README files (github, kaggle, bibliotecas, etc).\n",
        "- **Conversão fácil**: Pode ser convertido para HTML ou outros formatos de maneira automática.\n",
        "\n"
      ],
      "metadata": {
        "id": "6UnKy1Ka_2Gj"
      }
    },
    {
      "cell_type": "markdown",
      "source": [
        "---\n",
        "### Como utilizar Markdown?\n",
        "\n",
        "Vamos listar nos itens abaixo os principais itens para editar o seu texto em Markdown.\n"
      ],
      "metadata": {
        "id": "KqF19IUG_6F6"
      }
    },
    {
      "cell_type": "markdown",
      "source": [
        "#### ***Títulos***\n",
        "\n",
        "Use o símbolo `#` seguido de um espaço para criar títulos, `##` seguido de um espaço para criar subtítulos e assim por diante.\n",
        "\n",
        "> Quanto mais `#`, menor o nível do título.\n",
        "\n",
        "```markdown\n",
        "# Título Principal\n",
        "## Subtítulo\n",
        "### Subsubtítulo\n",
        "#### Subsubsubtítulo\n",
        "```\n",
        "\n",
        "- Observação: em notebooks do google colab o índice é formado pelos títulos que aparecem no início de células de texto.\n"
      ],
      "metadata": {
        "id": "i2HwhfGYI0Be"
      }
    },
    {
      "cell_type": "markdown",
      "source": [
        "#### ***Texto em Itálico e Negrito***\n",
        "\n",
        "- Para itálico, use `*texto*` ou `_texto_`.\n",
        "  - Resultado: *texto*.\n",
        "\n",
        "- Para negrito, use `**texto**` ou `__texto__`.\n",
        "  - Resultado: **texto**.\n",
        "\n",
        "- Combine os dois para negrito e itálico com `***texto***`.\n",
        "  - Resultado: ***texto***."
      ],
      "metadata": {
        "id": "qtq3BJBOTwQR"
      }
    },
    {
      "cell_type": "markdown",
      "source": [
        "\n",
        "#### ***Listas***  \n",
        "\n",
        "- Para *listas Não Ordenadas* use `-`, `*` ou `+` para criar itens.\n",
        "\n",
        "  Por exemplo, o código abaixo\n",
        "\n",
        "  ```markdown\n",
        "  - Item 1\n",
        "  - Item 2\n",
        "    - Subitem 2.1\n",
        "    - Subitem 2.2\n",
        "  ```\n",
        "\n",
        "  resulta em:\n",
        "  - Item 1\n",
        "  - Item 2\n",
        "    - Subitem 2.1\n",
        "    - Subitem 2.2\n",
        "\n",
        "\n",
        "- Para *listas Ordenadas* use números seguidos de um ponto (1., 2.).\n",
        "\n",
        "  Por exemplo, o código abaixo\n",
        "\n",
        "  ```markdown\n",
        "  1. Item 1\n",
        "  1. Item 2\n",
        "    1. Subitem 2.1\n",
        "    1. Subitem 2.2\n",
        "  1. Item 3  \n",
        "  ```\n",
        "\n",
        "  resulta em:\n",
        "  1. Item 1\n",
        "  1. Item 2\n",
        "    1. Subitem 2.1\n",
        "    1. Subitem 2.2\n",
        "  1. Item 3\n"
      ],
      "metadata": {
        "id": "gLd9ly5EJDFI"
      }
    },
    {
      "cell_type": "markdown",
      "source": [
        "#### ***Links e Imagens***\n",
        "\n",
        "- **Links**: crie links com `[texto](URL)`.\n",
        "\n",
        "  Por exemplo, o código\n",
        "  ```markdown\n",
        "  [Clique aqui para acessar o Google](https://www.google.com)\n",
        "  ```\n",
        "  resulta em: [Clique aqui para acessar o Google](https://www.google.com)\n",
        "\n",
        "\n",
        "- **Imagens**: adicione imagens com `![descrição](caminho/URL)`.\n",
        "\n",
        "  > A imagem pode ser um arquivo local ou simplesmente o link para a imagem na internet.\n",
        "\n",
        "  Por exemplo, o código\n",
        "  ```markdown\n",
        "  ![Logo do Python](https://www.python.org/static/community_logos/python-logo.png)\n",
        "  ```\n",
        "  resulta em:\n",
        "  \n",
        "  ![Logo do Python](https://www.python.org/static/community_logos/python-logo.png)\n",
        "\n"
      ],
      "metadata": {
        "id": "FouX89OfJKI0"
      }
    },
    {
      "cell_type": "markdown",
      "source": [
        " ##### ***Imagens em HTML***\n",
        "\n",
        " * O Markdown padrão não permite redimensionar imagens, mas como o Jupyter aceita HTML nas células Markdown, podemos usar a tag <img> para controlar o tamanho de forma precisa.\n",
        "\n",
        " * A plhanilha abaixo apresenta os principais argumentos da função <img>:\n",
        "\n",
        "| Atributo  | O que faz                                              | Exemplo                                      |\n",
        "| --------- | ------------------------------------------------------ | -------------------------------------------- |\n",
        "| `src`     | Caminho ou URL da imagem                               | `src=\"imagem.png\"`                           |\n",
        "| `alt`     | Texto alternativo (se a imagem falhar)           | `alt=\"Logo do Python\"`                       |\n",
        "| `width`   | Define a **largura** da imagem (em px ou %)            | `width=\"200\"` ou `width=\"50%\"`               |\n",
        "| `height`  | Define a **altura** da imagem                          | `height=\"150\"`                               |\n",
        "| `title`   | Texto que aparece ao passar o mouse (tooltip)          | `title=\"Clique para ampliar\"`                |\n",
        "\n",
        "* Por exemplo, o código\n",
        "  ```markdown\n",
        "  <img src=\"https://www.python.org/static/community_logos/python-logo.png\" width=\"200\">\n",
        "  ```\n",
        "  resulta em:\n",
        "\n",
        "  <img src=\"https://www.python.org/static/community_logos/python-logo.png\" width=\"200\">\n"
      ],
      "metadata": {
        "id": "c9UrFp7zF3GH"
      }
    },
    {
      "cell_type": "markdown",
      "source": [
        "##### ***Capturando imagens da internet***\n",
        "\n",
        "* Tente clicar com o botão direito sobre a imagem e então pedir para abrir uma nova guia, se o link aparecer então basta copiar o link.\n",
        "\n",
        "* Algumas páginas bloqueiam o link direto para a imagem. Neste caso, para obter o link você pode tentar os seguintes passos:\n",
        "\n",
        "  1. Clique com o botão direito e vá em inspecionar.\n",
        "\n",
        "  2. Procure pelo arquivo de imagen \"Img\" (imagens) ou procure arquivos com extensões como .png, .jpg.\n",
        "\n",
        "  5. Copie o link."
      ],
      "metadata": {
        "id": "zQxe8p5AHXlp"
      }
    },
    {
      "cell_type": "markdown",
      "source": [
        "#### ***Tabelas***\n",
        "\n",
        "- Crie tabelas usando `|` para colunas e `-` para separar o cabeçalho.\n",
        "\n",
        "  Por exemplo, o código\n",
        "  ```markdown\n",
        "| Produto   |  Preço  | Quantidade |\n",
        "|-----------|---------|------------|\n",
        "| Produto A | R\\$ 10  | 100        |\n",
        "| Produto B | R\\$ 20  | 50         |\n",
        "| Produto C | R\\$ 30  | 200        |\n",
        "  ```\n",
        "\n",
        "  resulta em:\n",
        "\n",
        "| Produto   |  Preço  | Quantidade |\n",
        "|-----------|---------|------------|\n",
        "| Produto A | R\\$ 10  | 100        |\n",
        "| Produto B | R\\$ 20  | 50         |\n",
        "| Produto C | R\\$ 30  | 200        |\n",
        "\n",
        "\n",
        "- Alguns ambientes (jupyter, colab e outros) também possuem suporte para tabelas em **latex**.\n",
        "\n",
        "  Por exemplo, o código\n",
        "```markdown\n",
        "\\begin{array}{|c|c|c|}\n",
        "\\hline\n",
        "\\textbf{Produto} & \\textbf{Preço} & \\textbf{Quantidade} \\\\\n",
        "\\hline\n",
        "Produto A & R\\$ 10 & 100 \\\\\n",
        "Produto B & R\\$ 20 & 50 \\\\\n",
        "Produto C & R\\$ 30 & 200 \\\\\n",
        "\\hline\n",
        "\\end{array}\n",
        "```\n",
        "resulta em:\n",
        "\\begin{array}{|c|c|c|}\n",
        "\\hline\n",
        "\\textbf{Produto} & \\textbf{Preço} & \\textbf{Quantidade} \\\\\n",
        "\\hline\n",
        "Produto A & R\\$ 10 & 100 \\\\\n",
        "Produto B & R\\$ 20 & 50 \\\\\n",
        "Produto C & R\\$ 30 & 200 \\\\\n",
        "\\hline\n",
        "\\end{array}\n",
        "\n",
        "\n",
        "\n",
        "**Observação**: existem páginas de internet que fascilitam a conversão de planilhas do Excel ou arquivos CSV para Markdown ou Latex.\n",
        "  - Por exemplo, [https://tableconvert.com](https://tableconvert.com)\n",
        "\n",
        "  > Também permite a conversar para outros diversos formatos, como o código para gerar um DataFrame do Pandas."
      ],
      "metadata": {
        "id": "6P8Me2QBJfuN"
      }
    },
    {
      "cell_type": "markdown",
      "source": [
        "#### ***Códigos***\n",
        "\n",
        "- **Código Inline**\n",
        "\n",
        "  Use crases simples (`) para destacar código em linha.\n",
        "\n",
        "  Por exemplo:\n",
        "  - \\`a=5\\` resulta em `a=5`.  \n",
        "  - \\`print(\"Olá, mundo!\")\\` resulta em `print(\"Olá, mundo!\")`.\n",
        "\n",
        "- **Blocos de Código**  \n",
        "\n",
        "  Use crases triplas (```) para criar blocos de código. Você pode especificar a linguagem para destacar a sintaxe.\n",
        "\n",
        "  Por exemplo, o bloco de código renderizado:\n",
        "    ```python\n",
        "    # Este é um bloco de código Python\n",
        "    print(\"Olá, mundo!\")\n",
        "    ```\n",
        "  é criada apenas colocando **\\`\\`\\`python** $\\,$ na linha antes do código e depois fechando com  **\\`\\`\\`**   na linha após o código.\n",
        "\n",
        "  O mesmo pode ser feito para outras linguagens de programação, por exemplo:\n",
        "  \n",
        "  - **\\`\\`\\`r**  destaca um código em R;\n",
        "  - **\\`\\`\\`java**  destaca um código em Java;\n",
        "  - **\\`\\`\\`c**  destaca um código em C;\n",
        "  -  **\\`\\`\\`markdown** destaca um código em markdown.\n",
        "\n",
        "\n",
        "\n"
      ],
      "metadata": {
        "id": "P0V1JbD1NaJX"
      }
    },
    {
      "cell_type": "markdown",
      "source": [
        "#### ***Citações e destaque***\n",
        "\n",
        "Use o símbolo `>` para criar citações.\n",
        "\n",
        "Por exemplo, o código:\n",
        "```markdown\n",
        "> Este é um bloco de citação.\n",
        "> Markdown é incrível!\n",
        "```\n",
        "resulta em:\n",
        "> Este é um bloco de citação.\n",
        "\n",
        "> Markdown é incrível!"
      ],
      "metadata": {
        "id": "yvF3AexoQuxh"
      }
    },
    {
      "cell_type": "markdown",
      "source": [
        "#### ***Fórmulas Matemáticas***\n",
        "\n",
        "Fórmulas matemáticas são escritas utilizando Latex.\n",
        "\n",
        "- **Equações Inline**:\n",
        "\n",
        "  Equações dentro do texto são geradas colocando a equação dentro de `$ ... $`. Dessa forma, o modo matemático do LaTeX é utilizado para tudo que estiver entre os cifrões.\n",
        "\n",
        "  Por exemplo, o texto\n",
        "  ```markdown\n",
        "  A famosa equação de Einstein é $E = mc^2$.\n",
        "  ```\n",
        "  gera o seguinte resultado:\n",
        "\n",
        "  > A famosa equação de Einstein é $E = mc^2$.\n",
        "\n",
        "\n",
        "- **Equações em bloco**:\n",
        "\n",
        "  Para destacar uma equação, escreva ela dentro de `$$ ... $$`. Desta forma, a equação será apresentada na linha de baixo e centralizada.\n",
        "\n",
        "  Por exemplo, o texto\n",
        "  ```markdown\n",
        "  A famosa equação de Einstein é $$ E = mc^2 $$.\n",
        "  ```\n",
        "  gera o seguinte resultado:\n",
        "\n",
        "  > A famosa equação de Einstein é $$E = mc^2$$.\n",
        "\n",
        "\n",
        "- **Operadores matemáticos comuns**:\n",
        "Você pode escrever uma variedade de operadores e símbolos em LaTeX, como:\n",
        "\n",
        "  - Raiz quadrada:\n",
        "    - `$\\sqrt{a}$` resulta em\n",
        "    $\\sqrt{a}$.\n",
        "\n",
        "  - Frações:  \n",
        "      - `$\\frac{a}{b}$` resulta em\n",
        "    $\\frac{a}{b}$.\n",
        "  \n",
        "  - Potência:\n",
        "      - `$x^2$` resulta em\n",
        "    $x^2$.\n",
        "\n",
        "  - Exponencial:\n",
        "      - `$\\exp(x)$` resulta em\n",
        "    $\\exp(x)$.\n",
        "\n",
        "  - Logarítmo:\n",
        "      - `$\\log(x)$` resulta em\n",
        "    $\\log(x)$.   \n",
        "\n",
        "  - Subscrito:\n",
        "      - `$x_2$` resulta em\n",
        "    $x_2$.  \n",
        "  - Somatório:\n",
        "    - `$\\sum_{a}^{b}$` resulta em\n",
        "    $\\sum_{a}^{b}$.\n",
        "  \n",
        "  - Produtório:  \n",
        "    - `$\\prod_{a}^{b}$` resulta em\n",
        "    $\\prod_{a}^{b}$.\n",
        "\n",
        "  - Integral:\n",
        "    - `$\\int_{a}^{b}$` resulta em\n",
        "    $\\int_{a}^{b}$.\n",
        "\n",
        "  - Combinação:\n",
        "    - `$a \\choose b$` resulta em\n",
        "    $a \\choose b$.    \n",
        "\n",
        "- **Símbolos Especiais**:\n",
        "LaTeX também possui diversos símbolos, como:\n",
        "\n",
        "  - \\alpha ($\\alpha$),\n",
        "  - \\beta ($\\beta$),\n",
        "  - \\gamma ($\\gamma$),\n",
        "  - \\mu ($\\mu$),\n",
        "  - \\sigma ($\\sigma$),\n",
        "  - \\infty ($\\infty$),\n",
        "  - \\pi ($\\pi$)\n",
        "  - \\rightarrow ($\\rightarrow$)\n",
        "  - \\forall ($\\forall$)\n",
        "  - \\sim ($\\sim$)\n",
        "  - \\mathbb{R} ($\\mathbb{R}$)\n",
        "  - \\mathbb{Z} ($\\mathbb{Z}$)\n",
        "  - \\mathbb{N} ($\\mathbb{N}$)\n",
        "\n",
        "\n",
        "- **Exemplo**:\n",
        "\n",
        "  O código em markdown:\n",
        "  ```markdown\n",
        "> Seja $X \\sim Normal(\\mu, \\sigma^2)$, então a função densidade de probabilidade de $X$ é dada por\n",
        "$$\n",
        "f(x;\\mu,\\sigma^2) = \\frac{1}{\\sqrt{2\\pi \\sigma^2}}\n",
        "\\exp \\left \\{ - \\frac{(x-\\mu)^2}{2\\sigma^2} \\right \\}, ~~\\forall x \\in \\mathbb{R}.\n",
        "$$   \n",
        "  ```\n",
        "  resulta em:\n",
        "\n",
        "  > Seja $X \\sim Normal(\\mu, \\sigma^2)$, então a função densidade de probabilidade de $X$ é dada por:\n",
        "  $$\n",
        "  f(x;\\mu,\\sigma^2) = \\frac{1}{\\sqrt{2\\pi \\sigma^2}}\n",
        "  \\exp \\left \\{ - \\frac{(x-\\mu)^2}{2\\sigma^2} \\right \\}, ~~\\forall x \\in \\mathbb{R}.\n",
        "  $$  "
      ],
      "metadata": {
        "id": "bCos9-4ATyy5"
      }
    },
    {
      "cell_type": "markdown",
      "source": [
        "---\n",
        "## Renderização do relatório\n",
        "\n",
        "Um notebook pode ser aberto em um editor como Jupyter ou Colab, no entanto, por vezes vamos estar interessados em gerar um documento em HTML ou PDF.\n",
        "> Na apresentação do relatório provavelmente vamos estar interessados em omitir os códigos.\n",
        "\n"
      ],
      "metadata": {
        "id": "lRdZ52UB_ifY"
      }
    },
    {
      "cell_type": "markdown",
      "source": [
        "### Google Colab\n",
        "\n",
        "Infelizmente o *Google Colab*, na versão atual, não oferece nativamente uma forma de exporta o notebook como um relatório sem códigos.\n",
        "\n",
        "No entanto, podemos seguir os seguintes passos para gerar o relatório:\n",
        "\n",
        "1. Faça o download do seu notebook:\n",
        "  * Clique em *Arquivo > Fazer download > Baixar o .ipynb*;\n",
        "  * Isso salvará o arquivo .ipynb no seu computador.\n",
        "\n",
        "2. Abra um novo notebook:\n",
        "  * Clique em *Arquivo > Novo notebook no Drive*;\n",
        "\n",
        "No novo notebook, siga os seguintes passos:\n",
        "\n",
        "1. Certifique-se que a biblioteca `nbconvert` esta instalada no seu ambiente do *Colab*. Para isto, execute o comando abaixo em um célula de código.\n",
        "```python\n",
        "!pip install nbconvert\n",
        "```\n",
        "\n",
        "2. Faça upload do notebook:\n",
        "  * Clique em *Arquivo > Fazer upload de notebook* e selecione o arquivo .ipynb do seu computador.  \n",
        "\n",
        "3. Em um célula de código execute um dos comandos abaixo para converter o arquivo .ipynb em um arquivo HTML:\n",
        "\n",
        "  1. Se desejar incluir os códigos:\n",
        "```\n",
        "!jupyter nbconvert --to html nome_do_arquivo.ipynb\n",
        "```\n",
        "\n",
        "  1. Se desejar omitir os códigos:\n",
        "```\n",
        "!jupyter nbconvert --to html --no-input nome_do_notebook.ipynb\n",
        "```\n",
        "\n",
        "  * Lembre de substituir `nome_do_arquivo.ipynb` pelo nome do arquivo do notebook.\n",
        "\n",
        "4. Faça o download do arquivo gerado.\n",
        "\n",
        "  * No menu lateral esquerdo, vá em \"Arquivos\" e localize o arquivo `.html`, então faça o download para a sua máquina.\n",
        "\n",
        "  * Este arquivo pode ser aberto em qualquer navegador.\n",
        "\n",
        "  * Caso deseje exportar para PDF, você pode fazer a impressão no próprio navegador."
      ],
      "metadata": {
        "id": "23WREHr0A607"
      }
    },
    {
      "cell_type": "markdown",
      "source": [
        "### Jupyter Notebook\n",
        "\n",
        "Jupyter notebook possui suporte nativo, mas este também utiliza a biblioteca `nbconvert`, gerando assim resultado identico ao que vimos no Google Colab.\n",
        "\n",
        "Em Jupyter, basta seguir os seguintes passos:\n",
        "\n",
        "- Clique em *File > Save and Export Notebook As... > HTML*;\n",
        "\n",
        "Além de HTML, desde que esteja adequadamente instalado, você também tem a opção de exportar para Latex, Markdown, entre outros."
      ],
      "metadata": {
        "id": "9y5cHmMIhmKy"
      }
    },
    {
      "cell_type": "markdown",
      "source": [
        "## Exercício 1\n",
        "\n",
        "Considere o arquivo \"18_exercicio_1_relatorio.html\", então transcreva para um notebook de modo que ao exportar para HTML, o resultado seja identico ao arquivo original.\n",
        "\n",
        "Dica: utilize o código abaixo para gerar a figura.\n",
        "```python\n",
        "import numpy as np\n",
        "import matplotlib.pyplot as plt\n",
        "from scipy.stats import binom\n",
        "\n",
        "# Parâmetros da distribuição\n",
        "n = 10  # Número de experimentos\n",
        "p = 0.3  # Probabilidade de sucesso\n",
        "\n",
        "# Valores possíveis de X\n",
        "x = np.arange(0, n+1)\n",
        "\n",
        "# Função de probabilidade\n",
        "prob = binom.pmf(x, n, p)\n",
        "\n",
        "# Plotar o gráfico\n",
        "plt.figure(figsize=(4, 3))\n",
        "plt.bar(x, prob, color='skyblue', edgecolor='black', alpha=0.7)\n",
        "plt.title('Distribuição Binomial (n=10, p=0.3)', fontsize=14)\n",
        "plt.xlabel('Número de sucessos (k)', fontsize=12)\n",
        "plt.ylabel('P(X=k)', fontsize=12)\n",
        "plt.xticks(x)\n",
        "plt.grid(axis='y', linestyle='--', alpha=0.7)\n",
        "plt.show()\n",
        "```"
      ],
      "metadata": {
        "id": "-mHtFHbdlg4i"
      }
    },
    {
      "cell_type": "code",
      "source": [
        "import numpy as np\n",
        "import matplotlib.pyplot as plt\n",
        "from scipy.stats import binom\n",
        "\n",
        "# Parâmetros da distribuição\n",
        "n = 10  # Número de experimentos\n",
        "p = 0.3  # Probabilidade de sucesso\n",
        "\n",
        "# Valores possíveis de X\n",
        "x = np.arange(0, n+1)\n",
        "\n",
        "# Função de probabilidade\n",
        "prob = binom.pmf(x, n, p)\n",
        "\n",
        "# Plotar o gráfico\n",
        "plt.figure(figsize=(4, 3))\n",
        "plt.bar(x, prob, color='skyblue', edgecolor='black', alpha=0.7)\n",
        "plt.title('Distribuição Binomial (n=10, p=0.3)', fontsize=14)\n",
        "plt.xlabel('Número de sucessos (k)', fontsize=12)\n",
        "plt.ylabel('P(X=k)', fontsize=12)\n",
        "plt.xticks(x)\n",
        "plt.grid(axis='y', linestyle='--', alpha=0.7)\n",
        "plt.show()\n",
        "\n"
      ],
      "metadata": {
        "colab": {
          "base_uri": "https://localhost:8080/",
          "height": 338
        },
        "id": "Whpura4Bdd3o",
        "outputId": "e74617ff-298b-4ed0-b2f6-6a51a9d9aed8"
      },
      "execution_count": null,
      "outputs": [
        {
          "output_type": "display_data",
          "data": {
            "text/plain": [
              "<Figure size 400x300 with 1 Axes>"
            ],
            "image/png": "[encoded data removed]"
          },
          "metadata": {}
        }
      ]
    },
    {
      "cell_type": "code",
      "source": [
        "!jupyter nbconvert --to html --no-input 18_relatorio_dinamico.ipynb"
      ],
      "metadata": {
        "colab": {
          "base_uri": "https://localhost:8080/"
        },
        "id": "4hrPJTVDlBYa",
        "outputId": "dd765e73-7125-4ac5-d240-d04ac913bb0a"
      },
      "execution_count": 4,
      "outputs": [
        {
          "output_type": "stream",
          "name": "stdout",
          "text": [
            "[NbConvertApp] Converting notebook 18_relatorio_dinamico.ipynb to html\n",
            "[NbConvertApp] WARNING | Alternative text is missing on 5 image(s).\n",
            "[NbConvertApp] Writing 391803 bytes to 18_relatorio_dinamico.html\n"
          ]
        }
      ]
    }
  ]
}