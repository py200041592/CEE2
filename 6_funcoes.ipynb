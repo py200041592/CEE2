{
  "nbformat": 4,
  "nbformat_minor": 0,
  "metadata": {
    "colab": {
      "provenance": [],
      "toc_visible": true,
      "collapsed_sections": [
        "aV4UOf7-h2lj"
      ],
      "include_colab_link": true
    },
    "kernelspec": {
      "name": "python3",
      "display_name": "Python 3"
    },
    "language_info": {
      "name": "python"
    }
  },
  "cells": [
    {
      "cell_type": "markdown",
      "metadata": {
        "id": "view-in-github",
        "colab_type": "text"
      },
      "source": [
        "<a href=\"https://colab.research.google.com/github/py200041592/CEE2/blob/main/6_funcoes.ipynb\" target=\"_parent\"><img src=\"https://colab.research.google.com/assets/colab-badge.svg\" alt=\"Open In Colab\"/></a>"
      ]
    },
    {
      "cell_type": "markdown",
      "source": [
        "# Funções"
      ],
      "metadata": {
        "id": "ucToMMLJyE_W"
      }
    },
    {
      "cell_type": "markdown",
      "source": [
        "## Definiçõe e exemplos\n",
        "\n",
        "No desenvolvimento de códigos é comum a necessidade definir sub-rotinas que serão usadas outras vezes ao longo do código. Estas sub-rotinas são chamadas de **funções**. Elas ajudam a organizar o código, tornando-o mais modular, legível e fácil de manter.\n",
        "\n",
        "Para definir uma função em Python, usamos a palavra-chave `def` seguida do nome da função e dos parênteses. Se a função aceitar argumentos (valores que podem ser passados para a função), eles são colocados dentro dos parênteses.\n",
        "\n",
        "Um exemplo básico seria:"
      ],
      "metadata": {
        "id": "kw9ZDVyOyGr-"
      }
    },
    {
      "cell_type": "code",
      "source": [
        "def nome_da_funcao(argumento1, argumento2):\n",
        "    # Bloco de código da função\n",
        "    resultado = argumento1 + argumento2\n",
        "    return resultado  # Retorna o valor final"
      ],
      "metadata": {
        "id": "ZzCoUbVuIXVT"
      },
      "execution_count": 1,
      "outputs": []
    },
    {
      "cell_type": "markdown",
      "source": [
        "Aqui está uma explicação básica dos elementos:\n",
        "\n",
        "* `def`: Define a função.\n",
        "* `nome_da_funcao`: Nome que você dá à função (como \"soma\", \"imprimir_mensagem\", \"ajuste_modelo\", etc.).\n",
        "* `Argumentos`: São valores ou variáveis que podem ser passados para a função.\n",
        "* `return`: Devolve o valor final da função para ser usado em outras partes do código. Se não for especificado, a função retorna `None` (nada)."
      ],
      "metadata": {
        "id": "NO2QK6S-IbcI"
      }
    },
    {
      "cell_type": "markdown",
      "source": [
        "Exemplo: função que soma dois números"
      ],
      "metadata": {
        "id": "A7DMIMNKPYvP"
      }
    },
    {
      "cell_type": "code",
      "source": [
        "def soma(a, b):\n",
        "    return a + b\n",
        "\n",
        "# Teste a função\n",
        "resultado = soma(5.57, 3)\n",
        "print(f\"A soma é: {resultado:.1f}\")"
      ],
      "metadata": {
        "id": "kVwpD42WPh2-",
        "colab": {
          "base_uri": "https://localhost:8080/"
        },
        "outputId": "14d34b93-6c91-4915-d0f4-99177b19e8ef"
      },
      "execution_count": 2,
      "outputs": [
        {
          "output_type": "stream",
          "name": "stdout",
          "text": [
            "A soma é: 8.6\n"
          ]
        }
      ]
    },
    {
      "cell_type": "markdown",
      "source": [
        "Exemplo: a execução é feita apenas até o return"
      ],
      "metadata": {
        "id": "SPZGwXqTovQc"
      }
    },
    {
      "cell_type": "code",
      "source": [
        "def squared(x):\n",
        "  return x ** 2\n",
        "  print(\"Esta linha não é executada!\")\n",
        "\n",
        "print(squared(3))"
      ],
      "metadata": {
        "id": "RZl7X8jboygu",
        "colab": {
          "base_uri": "https://localhost:8080/"
        },
        "outputId": "001bcd23-cfd5-4eb7-beb8-69ae6f731b6b"
      },
      "execution_count": 3,
      "outputs": [
        {
          "output_type": "stream",
          "name": "stdout",
          "text": [
            "9\n"
          ]
        }
      ]
    },
    {
      "cell_type": "markdown",
      "source": [
        "Exemplo: A função cumprimentar recebe um argumento (nome) e exibe uma mensagem de boas-vindas."
      ],
      "metadata": {
        "id": "oXfvsGUkKyiZ"
      }
    },
    {
      "cell_type": "code",
      "source": [
        "# Exemplo de uma Função\n",
        "def cumprimentar(nome):\n",
        "    print(f\"Olá, {nome}! Seja bem-vindo.\")\n",
        "\n",
        "# Chamando a função\n",
        "cumprimentar(\"Ana\")\n",
        "cumprimentar(\"Paula\")\n",
        "cumprimentar(\"Jose\")"
      ],
      "metadata": {
        "id": "LZgOn8vnI3OX",
        "colab": {
          "base_uri": "https://localhost:8080/"
        },
        "outputId": "d9999a9c-ee4a-415e-d0f8-a718aa1e8842"
      },
      "execution_count": 4,
      "outputs": [
        {
          "output_type": "stream",
          "name": "stdout",
          "text": [
            "Olá, Ana! Seja bem-vindo.\n",
            "Olá, Paula! Seja bem-vindo.\n",
            "Olá, Jose! Seja bem-vindo.\n"
          ]
        }
      ]
    },
    {
      "cell_type": "markdown",
      "source": [
        "Outro exemplo, agora utilizando dois argumentos."
      ],
      "metadata": {
        "id": "0ACScB3eLFvS"
      }
    },
    {
      "cell_type": "code",
      "source": [
        "def cumprimentar2(cumprimento, nome):\n",
        "    print(cumprimento + \", \" + nome + \"!\")\n",
        "\n",
        "# Chamando a função\n",
        "cumprimentar2(\"Bom dia\",\"Ana\")\n",
        "cumprimentar2(\"Boa tarde\",\"Paula\")\n",
        "cumprimentar2(\"Boa noite\", \"Jose\")"
      ],
      "metadata": {
        "id": "JJb4GlcpyjU9",
        "colab": {
          "base_uri": "https://localhost:8080/"
        },
        "outputId": "68ac4f6b-5dd4-4534-9d0a-d0db4a609b68"
      },
      "execution_count": 5,
      "outputs": [
        {
          "output_type": "stream",
          "name": "stdout",
          "text": [
            "Bom dia, Ana!\n",
            "Boa tarde, Paula!\n",
            "Boa noite, Jose!\n"
          ]
        }
      ]
    },
    {
      "cell_type": "markdown",
      "source": [
        "Os parâmetros podem ser passados para a função na forma *posicional* como no exemplo anterior, ou na forma *nomeada* como no exemplo abaixo. A vantagem da forma nomeada é que não é obrigatório manter a ordem dos parâmetros definidas na função:"
      ],
      "metadata": {
        "id": "xl0nWo4DMwiE"
      }
    },
    {
      "cell_type": "code",
      "source": [
        "cumprimentar2( cumprimento=\"Bom dia\", nome=\"Ana\")    # Parâmetros nomeados.\n",
        "cumprimentar2( nome=\"Ana\", cumprimento=\"Bom dia\")     # Parâmetros nomeados fora de ordem."
      ],
      "metadata": {
        "id": "7ndgbczuMxHp",
        "colab": {
          "base_uri": "https://localhost:8080/"
        },
        "outputId": "32a37698-e0a5-49f8-8e99-f6e688966c5d"
      },
      "execution_count": 6,
      "outputs": [
        {
          "output_type": "stream",
          "name": "stdout",
          "text": [
            "Bom dia, Ana!\n",
            "Bom dia, Ana!\n"
          ]
        }
      ]
    },
    {
      "cell_type": "markdown",
      "source": [
        "As funções podem admitir uma **quantidade arbitrária de parâmetros**. Isto pode ser realizada passando parâmetros posicionais ou nomeados.\n",
        "\n",
        "- Parâmetros Posicionais: os argumentos podem ser passados como um tupla e recebidos como `*args`, neste caso, o que prevalece é a posição.\n",
        "\n",
        "- Parâmetros Nomeados: os argumentos podem ser passados em formato de dicionário (com os nomes dos parâmetros como chaves) e recebidos como `**args`.\n",
        "\n",
        "Veja os exemplos abaixo:"
      ],
      "metadata": {
        "id": "66yFf7binD8j"
      }
    },
    {
      "cell_type": "code",
      "source": [
        "## Argumentos transferidos por posição e recebidos como tupla.\n",
        "\n",
        "def comprar(*args):\n",
        "  for item in args:\n",
        "    print(\"Preciso comprar \" + item + \".\")\n",
        "\n",
        "comprar(\"tomate\", \"cebola\", \"alface\")"
      ],
      "metadata": {
        "id": "bFhxAARmbtkN",
        "colab": {
          "base_uri": "https://localhost:8080/"
        },
        "outputId": "d57730f0-88e2-451b-cc91-311fceb5f04b"
      },
      "execution_count": 7,
      "outputs": [
        {
          "output_type": "stream",
          "name": "stdout",
          "text": [
            "Preciso comprar tomate.\n",
            "Preciso comprar cebola.\n",
            "Preciso comprar alface.\n"
          ]
        }
      ]
    },
    {
      "cell_type": "code",
      "source": [
        "## Exemplo de parâmetros nomeados, recebidos como dicionário.\n",
        "\n",
        "# Esta função captura os dados do usuário, passados como parâmetros nomeados,\n",
        "# em um dicionário.\n",
        "def user(**args):\n",
        "  print(\"Primeiro nome  : \" + args[\"fname\"])\n",
        "  print(\"Último nome    : \" + args[\"lname\"])\n",
        "  print(\"Nome de usuário: \" + args[\"username\"])\n",
        "  print(\"Senha          : \" + args[\"pwd\"])\n",
        "\n",
        "user(fname = \"Peter\", lname = \"Norton\", username = \"pnorton\", pwd = \"12345\")"
      ],
      "metadata": {
        "id": "zp2SeqHjnLMc",
        "colab": {
          "base_uri": "https://localhost:8080/"
        },
        "outputId": "3a446991-52b0-4a4b-d83c-414e5309ac9c"
      },
      "execution_count": 8,
      "outputs": [
        {
          "output_type": "stream",
          "name": "stdout",
          "text": [
            "Primeiro nome  : Peter\n",
            "Último nome    : Norton\n",
            "Nome de usuário: pnorton\n",
            "Senha          : 12345\n"
          ]
        }
      ]
    },
    {
      "cell_type": "code",
      "source": [
        "## Outro exemplo de parâmetros nomeados, agora transferidos como dicionário\n",
        "\n",
        "## Claro que a função anterior também pode ser implementada\n",
        "## utilizando um dicionário\n",
        "def user(args):\n",
        "  print(\"Primeiro nome  : \" + args[\"fname\"])\n",
        "  print(\"Último nome    : \" + args[\"lname\"])\n",
        "  print(\"Nome de usuário: \" + args[\"username\"])\n",
        "  print(\"Senha          : \" + args[\"pwd\"])\n",
        "\n",
        "user( dict(fname = \"Peter\", lname = \"Norton\", username = \"pnorton\", pwd = \"12345\") )"
      ],
      "metadata": {
        "id": "OvTy0oxqUiP4",
        "colab": {
          "base_uri": "https://localhost:8080/"
        },
        "outputId": "674e3267-62c1-4644-cfd6-cb9ea8351488"
      },
      "execution_count": 9,
      "outputs": [
        {
          "output_type": "stream",
          "name": "stdout",
          "text": [
            "Primeiro nome  : Peter\n",
            "Último nome    : Norton\n",
            "Nome de usuário: pnorton\n",
            "Senha          : 12345\n"
          ]
        }
      ]
    },
    {
      "cell_type": "markdown",
      "source": [
        "Esses conceitos também podem ser combinados.\n",
        "\n",
        "No exemplo abaixo, o primeiro item não nomerado é transmitido para o primeiro argumento, os demais itens não enumerados são transmitidos para a tupla e os itens nomeados são transmitidos para o dicionário."
      ],
      "metadata": {
        "id": "syjdnHXjdTzj"
      }
    },
    {
      "cell_type": "code",
      "source": [
        "# Esta função combinam os dois conceitos.\n",
        "def planejar_viagem(destino, *rota, **veiculo):\n",
        "\n",
        "    print(\"Estou viajando para: \" + destino + \".\")\n",
        "\n",
        "    for item in rota:\n",
        "      print(\"Vou visitar: \" + item + \".\")\n",
        "\n",
        "    print(\"Vou utilizar: \" + veiculo[\"carro\"] +\n",
        "        \" de \" + str(veiculo[\"ano_fabricacao\"]) +\n",
        "        \" abastecido com \" + veiculo[\"combustivel\"] + \".\")\n",
        "\n",
        "planejar_viagem(\"Rio de Janeiro\", \"Goiânia\", \"Belo Horizonte\", \"São Paulo\",\n",
        "                carro=\"Corolla\", ano_fabricacao=2020, combustivel=\"gasolina\")"
      ],
      "metadata": {
        "id": "cd5omNczOfkI",
        "colab": {
          "base_uri": "https://localhost:8080/"
        },
        "outputId": "9010db2b-f34b-4551-d64e-7f73008a8088"
      },
      "execution_count": 10,
      "outputs": [
        {
          "output_type": "stream",
          "name": "stdout",
          "text": [
            "Estou viajando para: Rio de Janeiro.\n",
            "Vou visitar: Goiânia.\n",
            "Vou visitar: Belo Horizonte.\n",
            "Vou visitar: São Paulo.\n",
            "Vou utilizar: Corolla de 2020 abastecido com gasolina.\n"
          ]
        }
      ]
    },
    {
      "cell_type": "markdown",
      "source": [
        "Claro que o formato convencional permite uma melhor organização do código.\n",
        "\n",
        "Veja a replicação do ultimo exemplo abaixo."
      ],
      "metadata": {
        "id": "wMySBTmvd7Kz"
      }
    },
    {
      "cell_type": "code",
      "source": [
        "def planejar_viagem(destino, rota, veiculo):\n",
        "  print(\"Estou viajando para: \" + destino + \".\")\n",
        "\n",
        "  for item in rota:\n",
        "    print(\"Vou visitar: \" + item + \".\")\n",
        "\n",
        "  print(\"Vou utilizar: \" + veiculo[\"carro\"] +\n",
        "        \" de \" + str(veiculo[\"ano_fabricacao\"]) +\n",
        "        \" abastecido com \" + veiculo[\"combustivel\"] + \".\")\n",
        "\n",
        "planejar_viagem(\n",
        "    destino=\"Rio de Janeiro\",\n",
        "    rota = list( (\"Goiânia\", \"Belo Horizonte\", \"São Paulo\") ),\n",
        "    veiculo = dict(carro=\"Corolla\", ano_fabricacao=2020, combustivel=\"gasolina\")\n",
        "     )"
      ],
      "metadata": {
        "id": "CQms2ytgWCVY",
        "colab": {
          "base_uri": "https://localhost:8080/"
        },
        "outputId": "6a81ecf1-37b2-4bc9-ce82-1bd39a707f1e"
      },
      "execution_count": 11,
      "outputs": [
        {
          "output_type": "stream",
          "name": "stdout",
          "text": [
            "Estou viajando para: Rio de Janeiro.\n",
            "Vou visitar: Goiânia.\n",
            "Vou visitar: Belo Horizonte.\n",
            "Vou visitar: São Paulo.\n",
            "Vou utilizar: Corolla de 2020 abastecido com gasolina.\n"
          ]
        }
      ]
    },
    {
      "cell_type": "markdown",
      "source": [
        "As funções admitem **valores padrão** para seus parâmetros:"
      ],
      "metadata": {
        "id": "KVMzPtnjn8D9"
      }
    },
    {
      "cell_type": "code",
      "source": [
        "def saudacao(nome=\"Visitante\", mensagem=\"Bem-vindo(a) ao nosso sistema!\"):\n",
        "    print(f\"Olá, {nome}! {mensagem}\")\n",
        "\n",
        "# Chamadas da função\n",
        "saudacao()  # Usa os valores padrão\n",
        "saudacao(\"Ana\")  # Usa um valor personalizado para 'nome'\n",
        "saudacao(\"Carlos\", \"Espero que você esteja aproveitando o conteúdo!\")  # Usa valores personalizados para ambos\n"
      ],
      "metadata": {
        "id": "PDuAeR4doGXX",
        "colab": {
          "base_uri": "https://localhost:8080/"
        },
        "outputId": "5dc65148-8a2d-4195-e5d3-b3b3a8085a08"
      },
      "execution_count": 12,
      "outputs": [
        {
          "output_type": "stream",
          "name": "stdout",
          "text": [
            "Olá, Visitante! Bem-vindo(a) ao nosso sistema!\n",
            "Olá, Ana! Bem-vindo(a) ao nosso sistema!\n",
            "Olá, Carlos! Espero que você esteja aproveitando o conteúdo!\n"
          ]
        }
      ]
    },
    {
      "cell_type": "markdown",
      "source": [
        "Explicação:\n",
        "\n",
        "* A função `saudacao` possui dois parâmetros, `nome` e `mensagem`, ambos com valores padrão.\n",
        "\n",
        "* Quando você chama a função sem argumentos, ela usa os valores padrão (\"Visitante\" e \"Bem-vindo(a) ao nosso sistema!\").\n",
        "\n",
        "* Ao fornecer valores, você substitui os valores padrão."
      ],
      "metadata": {
        "id": "FpwFnqM1XyQ7"
      }
    },
    {
      "cell_type": "markdown",
      "source": [
        "### Importante"
      ],
      "metadata": {
        "id": "9lFsxq6rRIvl"
      }
    },
    {
      "cell_type": "markdown",
      "source": [
        "* Os parâmetros sem valores padrão nas funções precisam *sempre* ser fornecidos.\n",
        "\n",
        "* Os parâmetros podem ser fornecidos fora de ordem, desde que sejam nomeados."
      ],
      "metadata": {
        "id": "fCBIvrJGo758"
      }
    },
    {
      "cell_type": "code",
      "source": [
        "def func(a, b, c):\n",
        "  pass    # Use 'pass' quando o bloco não tiver um corpo ainda!!!\n",
        "\n",
        "#func(1, 2)                  # ERRO: falta um dos parâmetros\n",
        "func(c = 2, a = 3, b = 5)    # Parâmetros fora de ordem devem ser nomeados."
      ],
      "metadata": {
        "id": "ojQGTKV4pKic"
      },
      "execution_count": 17,
      "outputs": []
    },
    {
      "cell_type": "markdown",
      "source": [
        "## Retorno\n",
        "\n",
        "\n",
        "**Lembrete:** objetos separados por virgula formam uma tupla. Esse é o formato tradicional de retorno de uma função em python.\n",
        "\n",
        "Podemos desempacotar a saída de uma função de várias formas — inclusive misturando tuplas com dicionários (ou outros tipos), dependendo de como a função retorna os dados.\n",
        "\n",
        "Veja os exemplos:"
      ],
      "metadata": {
        "id": "aV4UOf7-h2lj"
      }
    },
    {
      "cell_type": "code",
      "source": [
        "## Nesse exemplo, retornamos uma tupla formada por dois objetos (lista e dicionário)\n",
        "def exemplo():\n",
        "    return [1, 2, 3], {\"a\": \"A\", \"b\": \"B\"} # Aqui é construida uma lista e um dicionário\n",
        "\n",
        "a = exemplo()\n",
        "\n",
        "print(type(a))\n",
        "\n",
        "# Desempacotando a tupla\n",
        "lista, dicionario = exemplo()\n",
        "print(lista)          # 1 2 3\n",
        "print(dicionario)    # Erro se usar diretamente no print, mas..."
      ],
      "metadata": {
        "id": "TqCYcUxGkSKL",
        "colab": {
          "base_uri": "https://localhost:8080/"
        },
        "outputId": "634dcb7b-2c87-420e-9ee6-1cec744e828f"
      },
      "execution_count": 18,
      "outputs": [
        {
          "output_type": "stream",
          "name": "stdout",
          "text": [
            "<class 'tuple'>\n",
            "[1, 2, 3]\n",
            "{'a': 'A', 'b': 'B'}\n"
          ]
        }
      ]
    },
    {
      "cell_type": "code",
      "source": [
        "## Essa função retorna um dicionário em conjunto com duas variáveis\n",
        "## os elementos são desempacotados diretamente\n",
        "\n",
        "def dados():\n",
        "    nome = \"Pedro\"\n",
        "    idade = 30\n",
        "    info_extra = {\"cidade\": \"Curitiba\", \"ativo\": True}\n",
        "    return nome, idade, info_extra\n",
        "\n",
        "n, i, extra = dados()\n",
        "\n",
        "print(n)       # Pedro\n",
        "print(i)       # 30\n",
        "print(extra)   # {'cidade': 'Curitiba', 'ativo': True}\n"
      ],
      "metadata": {
        "id": "Snve7uJsiPYk",
        "colab": {
          "base_uri": "https://localhost:8080/"
        },
        "outputId": "9bbc5563-a65c-45f6-af31-55cad6eb5f64"
      },
      "execution_count": 20,
      "outputs": [
        {
          "output_type": "stream",
          "name": "stdout",
          "text": [
            "Pedro\n",
            "30\n",
            "{'cidade': 'Curitiba', 'ativo': True}\n"
          ]
        }
      ]
    },
    {
      "cell_type": "code",
      "source": [
        "## nesse exemplo um dicionários é desempacotado dentro de um tupla\n",
        "\n",
        "def dados():\n",
        "    return (\"Ana\", 25, {\"curso\": \"Python\", \"nível\": \"Avançado\"})\n",
        "\n",
        "nome, idade, info = dados()\n",
        "curso, nivel = info[\"curso\"], info[\"nível\"]\n",
        "\n",
        "print(nome)   # Ana\n",
        "print(curso)  # Python\n",
        "print(nivel)"
      ],
      "metadata": {
        "id": "Mxz9lj3jjIlF",
        "colab": {
          "base_uri": "https://localhost:8080/"
        },
        "outputId": "a34a4df1-697c-4709-8125-5782195fe01a"
      },
      "execution_count": 25,
      "outputs": [
        {
          "output_type": "stream",
          "name": "stdout",
          "text": [
            "Ana\n",
            "Python\n",
            "Avançado\n"
          ]
        }
      ]
    },
    {
      "cell_type": "markdown",
      "source": [
        "## Documentação\n",
        "E interessante que uma função seja documentada descrevendo o que aquele código faz e como deve ser utilizado.\n",
        "\n",
        "\n"
      ],
      "metadata": {
        "id": "B0es4rotoQvf"
      }
    },
    {
      "cell_type": "code",
      "source": [
        "def area_retangulo(largura, altura=1):\n",
        "    \"\"\"\n",
        "    Calcula a área de um retângulo.\n",
        "\n",
        "    Esta função calcula a área de um retângulo multiplicando a largura pela altura.\n",
        "    Se a altura não for especificada, assume o valor padrão de 1.\n",
        "\n",
        "    Parameters:\n",
        "    largura (float): A largura do retângulo.\n",
        "    altura (float, opcional): A altura do retângulo. Padrão é 1.\n",
        "\n",
        "    Returns:\n",
        "    float: A área do retângulo calculada como largura * altura.\n",
        "\n",
        "    Example:\n",
        "    >>> calcular_area_retangulo(5, 10)\n",
        "    50\n",
        "    >>> calcular_area_retangulo(5)\n",
        "    5\n",
        "    \"\"\"\n",
        "    return largura * altura\n"
      ],
      "metadata": {
        "id": "chiywQcut1Hn"
      },
      "execution_count": 27,
      "outputs": []
    },
    {
      "cell_type": "markdown",
      "source": [
        "Explicação da docstring:\n",
        "\n",
        "1. Descrição: A primeira linha explica o que a função faz de forma resumida.\n",
        "1. Detalhamento: Explica o funcionamento da função e descreve o valor padrão do argumento altura.\n",
        "1. Parâmetros: Detalha cada parâmetro, seu tipo e função na operação.\n",
        "1. Retorno: Descreve o que a função retorna e o tipo de dado esperado.\n",
        "1. Exemplos: Fornece exemplos de uso da função, com valores que mostram o comportamento padrão e personalizado.\n",
        "\n",
        "Esse padrão de documentação ajuda outros desenvolvedores a entender o uso e o comportamento da função."
      ],
      "metadata": {
        "id": "q9yqYG7mZ3P5"
      }
    },
    {
      "cell_type": "code",
      "source": [
        "## veja como o usuária pode consultar a documentação de uma função\n",
        "help(area_retangulo)"
      ],
      "metadata": {
        "id": "J3HHsMYLYfyG",
        "colab": {
          "base_uri": "https://localhost:8080/"
        },
        "outputId": "0ff8bd17-87f0-40eb-dfb6-63ee55318a49"
      },
      "execution_count": 28,
      "outputs": [
        {
          "output_type": "stream",
          "name": "stdout",
          "text": [
            "Help on function area_retangulo in module __main__:\n",
            "\n",
            "area_retangulo(largura, altura=1)\n",
            "    Calcula a área de um retângulo. \n",
            "    \n",
            "    Esta função calcula a área de um retângulo multiplicando a largura pela altura.\n",
            "    Se a altura não for especificada, assume o valor padrão de 1.\n",
            "    \n",
            "    Parameters:\n",
            "    largura (float): A largura do retângulo.\n",
            "    altura (float, opcional): A altura do retângulo. Padrão é 1.\n",
            "    \n",
            "    Returns:\n",
            "    float: A área do retângulo calculada como largura * altura.\n",
            "    \n",
            "    Example:\n",
            "    >>> calcular_area_retangulo(5, 10)\n",
            "    50\n",
            "    >>> calcular_area_retangulo(5)\n",
            "    5\n",
            "\n"
          ]
        }
      ]
    },
    {
      "cell_type": "code",
      "source": [
        "## ou equivalentemente, podemos consultar o atributo __doc__\n",
        "print( area_retangulo.__doc__ )"
      ],
      "metadata": {
        "id": "ZuYRUhkSZryz",
        "colab": {
          "base_uri": "https://localhost:8080/"
        },
        "outputId": "bb9e0327-1af6-49c1-e069-a95405a28ce1"
      },
      "execution_count": 29,
      "outputs": [
        {
          "output_type": "stream",
          "name": "stdout",
          "text": [
            "\n",
            "    Calcula a área de um retângulo. \n",
            "\n",
            "    Esta função calcula a área de um retângulo multiplicando a largura pela altura.\n",
            "    Se a altura não for especificada, assume o valor padrão de 1.\n",
            "\n",
            "    Parameters:\n",
            "    largura (float): A largura do retângulo.\n",
            "    altura (float, opcional): A altura do retângulo. Padrão é 1.\n",
            "\n",
            "    Returns:\n",
            "    float: A área do retângulo calculada como largura * altura.\n",
            "\n",
            "    Example:\n",
            "    >>> calcular_area_retangulo(5, 10)\n",
            "    50\n",
            "    >>> calcular_area_retangulo(5)\n",
            "    5\n",
            "    \n"
          ]
        }
      ]
    },
    {
      "cell_type": "code",
      "source": [
        "## Geralmente o editor de códigos exibem a docstring\n",
        "## automaticamente quando o usuário passa o mouse\n",
        "## sobre a função ou começa a digitá-la.\n",
        "\n",
        "## Como exemplo, passe o mouse sobre a chamada da função ou apague\n",
        "## e comece a digitar novamente o nome da função\n",
        "area_retangulo()"
      ],
      "metadata": {
        "id": "to3B4jpbakFx",
        "colab": {
          "base_uri": "https://localhost:8080/"
        },
        "outputId": "7fec7722-e497-42f7-8d06-e4ab1e9d0e85"
      },
      "execution_count": 31,
      "outputs": [
        {
          "output_type": "execute_result",
          "data": {
            "text/plain": [
              "1"
            ]
          },
          "metadata": {},
          "execution_count": 31
        }
      ]
    },
    {
      "cell_type": "markdown",
      "source": [
        "## Função lambda\n",
        "\n",
        "`lambda` é uma forma curta e anônima de criar funções em Python. Ela é útil quando você precisa de uma função simples e rápida, especialmente como argumento para outras funções.\n",
        "\n",
        "### Sintaxe\n",
        "\n",
        "```python\n",
        "lambda argumentos: expressão\n",
        "```\n",
        "\n",
        "### Exemplo\n",
        "\n",
        "No código abaixo as duas funções fazem a mesma coisa, mas a com `lambda` utiliza menos código.\n",
        "\n",
        "```python\n",
        "# Com def\n",
        "def quadrado(x):\n",
        "    return x * x\n",
        "\n",
        "# Com lambda\n",
        "quadrado = lambda x: x * x\n",
        "```\n",
        "\n",
        "\n",
        "### Veja outros exemplos abaixo."
      ],
      "metadata": {
        "id": "RaeB5kXEbAV0"
      }
    },
    {
      "cell_type": "code",
      "source": [
        "# Exemplo 1: Soma de dois números\n",
        "\n",
        "soma = lambda a, b: a + b\n",
        "\n",
        "print(soma(2, 3))  # Saída: 5"
      ],
      "metadata": {
        "id": "xrb4tZhdbdlM",
        "colab": {
          "base_uri": "https://localhost:8080/"
        },
        "outputId": "b74bd097-c4b0-474b-d5b4-079aca9ecf31"
      },
      "execution_count": 32,
      "outputs": [
        {
          "output_type": "stream",
          "name": "stdout",
          "text": [
            "5\n"
          ]
        }
      ]
    },
    {
      "cell_type": "code",
      "source": [
        "# Exemplo 2: Verificar se um número é par\n",
        "\n",
        "eh_par = lambda x: x % 2 == 0\n",
        "\n",
        "print(eh_par(4))   # Saída: True\n"
      ],
      "metadata": {
        "id": "1kq1y5VsbooH",
        "colab": {
          "base_uri": "https://localhost:8080/"
        },
        "outputId": "9e5fb1d4-967c-47d2-cf7c-e7150b9c0531"
      },
      "execution_count": 33,
      "outputs": [
        {
          "output_type": "stream",
          "name": "stdout",
          "text": [
            "True\n"
          ]
        }
      ]
    },
    {
      "cell_type": "markdown",
      "source": [
        "## Função map()\n",
        "\n",
        "A função `map()` aplica uma função a cada item de um iterável (como uma lista, tupla, etc.) e retorna um iterador com os resultados. Similar ao lapply\n",
        "\n",
        "É muito usada quando você quer transformar elementos de uma coleção sem usar loops explícitos.\n",
        "\n",
        "### Sintaxe\n",
        "\n",
        "```python\n",
        "map(função, iterável)\n",
        "```\n",
        "- função: função que será aplicada a cada item.\n",
        "\n",
        "- iterável: a sequência de dados (lista, tupla, etc).\n",
        "\n",
        "O retorno é um objeto map, que você pode converter com list(), tuple(), etc.\n",
        "\n",
        "### Veja outros exemplos abaixo."
      ],
      "metadata": {
        "id": "rr-VRqpXdOY9"
      }
    },
    {
      "cell_type": "code",
      "source": [
        "# Exemplo 1: Dobrar os números de uma lista\n",
        "\n",
        "numeros = [1, 2, 3, 4]\n",
        "\n",
        "dobro = map( lambda x: x * 2, numeros )\n",
        "\n",
        "print(list(dobro))  # Saída: [2, 4, 6, 8]\n",
        "print(type(dobro))"
      ],
      "metadata": {
        "id": "XFnBfXCQb3XQ",
        "colab": {
          "base_uri": "https://localhost:8080/"
        },
        "outputId": "980f052c-c22e-4b01-d1db-00ab4c04848c"
      },
      "execution_count": 45,
      "outputs": [
        {
          "output_type": "stream",
          "name": "stdout",
          "text": [
            "[2, 4, 6, 8]\n",
            "<class 'map'>\n"
          ]
        }
      ]
    },
    {
      "cell_type": "code",
      "source": [
        "# Exemplo 2: Usando uma função definida com def\n",
        "\n",
        "def quadrado(n):\n",
        "    return n ** 2\n",
        "\n",
        "valores = [1, 2, 3, 4]\n",
        "\n",
        "resultado = map(quadrado, valores)\n",
        "\n",
        "print(list(resultado))  # Saída: [1, 4, 9, 16]"
      ],
      "metadata": {
        "id": "_1VQHI2pd4MU",
        "colab": {
          "base_uri": "https://localhost:8080/"
        },
        "outputId": "e1b336d7-1946-4f9d-8aad-270d5b7001be"
      },
      "execution_count": 40,
      "outputs": [
        {
          "output_type": "stream",
          "name": "stdout",
          "text": [
            "[1, 4, 9, 16]\n"
          ]
        }
      ]
    },
    {
      "cell_type": "code",
      "source": [
        "# Exemplo 3: Juntar nomes e sobrenomes\n",
        "\n",
        "nomes = [\"Ana\", \"Carlos\", \"Joana\"]\n",
        "sobrenomes = [\"Silva\", \"Souza\", \"Pereira\"]\n",
        "\n",
        "nomes_completos = map(lambda nome, sobrenome: f\"{nome} {sobrenome}\", nomes, sobrenomes)\n",
        "\n",
        "print(list(nomes_completos))\n",
        "\n",
        "# Saída: ['Ana Silva', 'Carlos Souza', 'Joana Pereira']"
      ],
      "metadata": {
        "id": "zS7tw26oeOgQ",
        "colab": {
          "base_uri": "https://localhost:8080/"
        },
        "outputId": "dc4461c1-bce9-4f5f-a718-bd4b29082692"
      },
      "execution_count": 43,
      "outputs": [
        {
          "output_type": "stream",
          "name": "stdout",
          "text": [
            "['Ana Silva', 'Carlos Souza', 'Joana Pereira']\n"
          ]
        }
      ]
    },
    {
      "cell_type": "markdown",
      "source": [
        "## Função filter()\n",
        "\n",
        "A função `filter()` serve para filtrar elementos de um iterável, mantendo apenas os que satisfazem uma condição (ou seja, para os quais a função retorna `True`).\n",
        "\n",
        "### Sintaxe\n",
        "\n",
        "```python\n",
        "filter( função, iterável )\n",
        "```\n",
        "- `função`: deve retornar `True` ou `False` para cada item.\n",
        "\n",
        "- `iterável`: a sequência de dados a ser filtrada.\n",
        "\n",
        "O resultado é um objeto filter (iterador) — geralmente transformado com list().\n",
        "\n",
        "### Veja outros exemplos abaixo."
      ],
      "metadata": {
        "id": "IGj59ibBlB-f"
      }
    },
    {
      "cell_type": "code",
      "source": [
        "# Exemplo 1: Filtrar números pares\n",
        "\n",
        "numeros = [1, 2, 3, 4, 5, 6]\n",
        "\n",
        "pares = filter(lambda x: x % 2 == 0, numeros)\n",
        "\n",
        "print(list(pares))  # Saída: [2, 4, 6]\n",
        "print(type(pares))\n",
        "print(pares)"
      ],
      "metadata": {
        "id": "5qaQGkVxlrS_",
        "colab": {
          "base_uri": "https://localhost:8080/"
        },
        "outputId": "980fdb48-8066-4941-b3d1-d11e0808b45a"
      },
      "execution_count": 44,
      "outputs": [
        {
          "output_type": "stream",
          "name": "stdout",
          "text": [
            "[2, 4, 6]\n",
            "<class 'filter'>\n",
            "<filter object at 0x7923c501f550>\n"
          ]
        }
      ]
    },
    {
      "cell_type": "code",
      "source": [
        "# Exemplo 2: Filtrar strings não vazias\n",
        "\n",
        "nomes = [\"Ana\", \"\", \"João\", \"\", \"Maria\"]\n",
        "\n",
        "nao_vazios = filter(None, nomes)\n",
        "\n",
        "print(list(nao_vazios))  # Saída: ['Ana', 'João', 'Maria']"
      ],
      "metadata": {
        "id": "XbmufLxwlx_t",
        "colab": {
          "base_uri": "https://localhost:8080/"
        },
        "outputId": "d19ec680-4dc2-436f-c84d-b7068a3145db"
      },
      "execution_count": 46,
      "outputs": [
        {
          "output_type": "stream",
          "name": "stdout",
          "text": [
            "['Ana', 'João', 'Maria']\n"
          ]
        }
      ]
    },
    {
      "cell_type": "code",
      "source": [
        "# Exemplo 3: Usando função com def\n",
        "\n",
        "def maior_que_10(x):\n",
        "    return x > 10\n",
        "\n",
        "valores = [4, 15, 9, 12]\n",
        "\n",
        "resultado = filter(maior_que_10, valores)\n",
        "\n",
        "print(list(resultado))  # Saída: [15, 12]\n"
      ],
      "metadata": {
        "id": "tNHN43wKl8yn",
        "colab": {
          "base_uri": "https://localhost:8080/"
        },
        "outputId": "c18f0bb8-e45a-40d4-89f1-e4526142c637"
      },
      "execution_count": 48,
      "outputs": [
        {
          "output_type": "stream",
          "name": "stdout",
          "text": [
            "[15, 12]\n"
          ]
        }
      ]
    },
    {
      "cell_type": "markdown",
      "source": [
        "## Exercício 1: Análise de Números\n",
        "\n",
        "Crie uma função chamada `analisar_numeros` que recebe uma lista de números inteiros como parâmetro.\n",
        "\n",
        "A função deve retornar dois objetos:\n",
        "\n",
        "- Uma nova lista contendo apenas os números pares da lista original.\n",
        "\n",
        "- Um dicionário com as seguintes informações:\n",
        "\n",
        "  - \"maior\": o maior valor da lista\n",
        "\n",
        "  - \"menor\": o menor valor da lista\n",
        "\n",
        "  - \"soma\": a soma de todos os valores da lista\n"
      ],
      "metadata": {
        "id": "ws9NLTwbpfOI"
      }
    },
    {
      "cell_type": "code",
      "source": [
        "def analisar_numeros(x):\n",
        "  pares = filter(lambda x: x % 2 == 0, x)\n",
        "  print(list(pares))\n",
        "\n",
        "  maior = max(x)\n",
        "  menor = min(x)\n",
        "  soma = sum(x)\n",
        "\n",
        "  resultado = {\"Maior\": maior, \"Menor\": menor, \"Soma\": soma}\n",
        "  print(resultado)\n",
        "\n",
        "valores = (4, 15, 9, 12)\n",
        "analisar_numeros(valores)"
      ],
      "metadata": {
        "colab": {
          "base_uri": "https://localhost:8080/"
        },
        "id": "6OK-4JdswAsr",
        "outputId": "947963c3-31b1-43f4-9d62-5af787ec53be"
      },
      "execution_count": 73,
      "outputs": [
        {
          "output_type": "stream",
          "name": "stdout",
          "text": [
            "[4, 12]\n",
            "{'Maior': 15, 'Menor': 4, 'Soma': 40}\n"
          ]
        }
      ]
    },
    {
      "cell_type": "markdown",
      "source": [
        "## Exercício 2: Converter Celsius em Fahrenheit\n",
        "\n",
        "Crie uma função chamada `celsius_para_fahrenheit` que recebe uma temperatura em graus Celsius e retorna a temperatura equivalente em Fahrenheit. A fórmula de conversão é: $ 𝐹 = 𝐶 \\times 9/5 + 32$.\n",
        "\n",
        "- Faça um print do resultado.\n",
        "\n",
        "- Documente a função."
      ],
      "metadata": {
        "id": "sIKsst6rIIU4"
      }
    },
    {
      "cell_type": "code",
      "source": [
        "def celsius_para_fahrenheit (temp_celsius):\n",
        "  \"\"\"\n",
        "  Converter Celsius em Fahrenheit\n",
        "\n",
        "  Esta função transforma um valor de temperatura de celsius para Fahrenheit\n",
        "\n",
        "  Parâmetro:\n",
        "  temp_celsius: Temperatura em Graus Celsius\n",
        "\n",
        "  Retorna:\n",
        "  float: Temperatura em Graus Fahrenheit\n",
        "\n",
        "  Example:\n",
        "  >>> celsius_para_fahrenheit(26)\n",
        "  78.8\n",
        "  >>> celsius_para_fahrenheit(15)\n",
        "  59.0\n",
        "  \"\"\"\n",
        "\n",
        "  f = temp_celsius * 9/5 + 32\n",
        "  print(f)\n",
        "\n",
        "celsius_para_fahrenheit(26)\n",
        "celsius_para_fahrenheit(15)"
      ],
      "metadata": {
        "id": "gVS5BMST1jnp",
        "outputId": "6d492d0e-32a6-48b1-bf51-b356eedb734c",
        "colab": {
          "base_uri": "https://localhost:8080/"
        }
      },
      "execution_count": 78,
      "outputs": [
        {
          "output_type": "stream",
          "name": "stdout",
          "text": [
            "78.8\n",
            "59.0\n"
          ]
        }
      ]
    }
  ]
}