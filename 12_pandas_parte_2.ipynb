{
  "nbformat": 4,
  "nbformat_minor": 0,
  "metadata": {
    "colab": {
      "provenance": [],
      "toc_visible": true,
      "include_colab_link": true
    },
    "kernelspec": {
      "name": "python3",
      "display_name": "Python 3"
    },
    "language_info": {
      "name": "python"
    }
  },
  "cells": [
    {
      "cell_type": "markdown",
      "metadata": {
        "id": "view-in-github",
        "colab_type": "text"
      },
      "source": [
        "<a href=\"https://colab.research.google.com/github/py200041592/CEE2/blob/main/12_pandas_parte_2.ipynb\" target=\"_parent\"><img src=\"https://colab.research.google.com/assets/colab-badge.svg\" alt=\"Open In Colab\"/></a>"
      ]
    },
    {
      "cell_type": "markdown",
      "source": [
        "# Pandas - Parte 2"
      ],
      "metadata": {
        "id": "8y8NrXiRRKZj"
      }
    },
    {
      "cell_type": "markdown",
      "source": [
        "## Aplicar funções em um DataFrame"
      ],
      "metadata": {
        "id": "4vk8o2bF8404"
      }
    },
    {
      "cell_type": "markdown",
      "source": [
        "`DataFrame.agg()` e `DataFrame.transform()` aplicam, respectivamente, uma função definida pelo usuário para reduzir ou propagar os resultados.\n",
        "\n",
        "* `DataFrame.agg(func, axis=0)` é utilizada para aplicar funções por eixos.\n",
        "\n",
        "* `DataFrame.transform(func, axis=0)` é utilizada para operar elemento a elemento.\n",
        "\n",
        "Veja os exemplos:"
      ],
      "metadata": {
        "id": "drKK2p5LBR4P"
      }
    },
    {
      "cell_type": "code",
      "source": [
        "import pandas as pd\n",
        "import numpy as np\n",
        "\n",
        "df = pd.DataFrame({\n",
        "    'A': [1, 2, 3, 4],\n",
        "    'B': [5, 6, np.nan, 8],\n",
        "    'C': [10, 20, 30, 40]\n",
        "})\n",
        "\n",
        "# Aplicar uma única função em todas as colunas\n",
        "result = df.agg('mean')\n",
        "print(result)\n",
        "# A    2.5\n",
        "# B    6.333333\n",
        "# C    25.0\n",
        "\n",
        "# Aplicar múltiplas funções a todas as colunas\n",
        "\n",
        "  ## Função personalizada para calcular a variação percentual\n",
        "def amplitude(series):\n",
        "    amp = float( series.max() - series.min() )\n",
        "    return amp\n",
        "\n",
        "result = df.agg(['sum', 'min', amplitude])\n",
        "print(\"\\n\", result)\n",
        "#                     A     B      C\n",
        "# sum              10.0  19.0  100.0\n",
        "# min               1.0   5.0   10.0\n",
        "# amplitude         3.0   3.0   30.0\n",
        "\n",
        "# Aplicar diferentes funções a diferentes colunas\n",
        "result = df.agg({'A': 'sum', 'B': 'mean', 'C': 'max'})\n",
        "print(\"\\n\")\n",
        "print(result)\n",
        "# A     10.0\n",
        "# B      6.333333\n",
        "# C     40.0\n"
      ],
      "metadata": {
        "id": "BV-Isf4fHV70",
        "outputId": "44020bf5-d6df-441a-928c-161c865a7f76",
        "colab": {
          "base_uri": "https://localhost:8080/"
        }
      },
      "execution_count": 1,
      "outputs": [
        {
          "output_type": "stream",
          "name": "stdout",
          "text": [
            "A     2.500000\n",
            "B     6.333333\n",
            "C    25.000000\n",
            "dtype: float64\n",
            "\n",
            "               A     B      C\n",
            "sum        10.0  19.0  100.0\n",
            "min         1.0   5.0   10.0\n",
            "amplitude   3.0   3.0   30.0\n",
            "\n",
            "\n",
            "A    10.000000\n",
            "B     6.333333\n",
            "C    40.000000\n",
            "dtype: float64\n"
          ]
        }
      ]
    },
    {
      "cell_type": "code",
      "source": [
        "import pandas as pd\n",
        "import numpy as np\n",
        "\n",
        "df = pd.DataFrame({\n",
        "    'A': [1, 2, 3, 4],\n",
        "    'B': [5, 6, np.nan, 8],\n",
        "    'C': [10, 20, 30, 40]\n",
        "})\n",
        "\n",
        "print(\"df:\\n\", df)\n",
        "\n",
        "# Exemplo: padronizar os dados subtraindo de cada elemento o mínimo da coluna e\n",
        "# dividindo pela pela amplitude de cada coluna\n",
        "result = df.transform( lambda x: (x - x.min())/(x.max() - x.min()) )\n",
        "print(\"\\nresult:\\n\", result)\n",
        "#     A     B     C\n",
        "# 0   2  10.0   20\n",
        "# 1   4  12.0   40\n",
        "# 2   6   NaN   60\n",
        "# 3   8  16.0   80\n",
        "\n",
        "# Aplicar funções diferentes a cada coluna\n",
        "result = df.transform({'A': lambda x: x + 10, 'B': lambda x: x.fillna(0), 'C': np.sqrt})\n",
        "print(\"\\nresult:\\n\", result)\n",
        "#      A    B         C\n",
        "# 0   11  5.0  3.162278\n",
        "# 1   12  6.0  4.472136\n",
        "# 2   13  0.0  5.477226\n",
        "# 3   14  8.0  6.324555\n"
      ],
      "metadata": {
        "id": "yEJ59BcnHeA7",
        "outputId": "b1ceffd8-2d53-4900-f2a3-56ee578628b4",
        "colab": {
          "base_uri": "https://localhost:8080/"
        }
      },
      "execution_count": 2,
      "outputs": [
        {
          "output_type": "stream",
          "name": "stdout",
          "text": [
            "df:\n",
            "    A    B   C\n",
            "0  1  5.0  10\n",
            "1  2  6.0  20\n",
            "2  3  NaN  30\n",
            "3  4  8.0  40\n",
            "\n",
            "result:\n",
            "           A         B         C\n",
            "0  0.000000  0.000000  0.000000\n",
            "1  0.333333  0.333333  0.333333\n",
            "2  0.666667       NaN  0.666667\n",
            "3  1.000000  1.000000  1.000000\n",
            "\n",
            "result:\n",
            "     A    B         C\n",
            "0  11  5.0  3.162278\n",
            "1  12  6.0  4.472136\n",
            "2  13  0.0  5.477226\n",
            "3  14  8.0  6.324555\n"
          ]
        }
      ]
    },
    {
      "cell_type": "markdown",
      "source": [
        "**Explicação**: `lambda` é uma forma de declarar um **função anônima**, geralmente utilizada em situações mais simples em que a função não será reaproveitada no futuro.\n",
        "\n",
        "* sintaxe:\n",
        "```python\n",
        "lambda argumentos: expressão\n",
        "```\n",
        "\n"
      ],
      "metadata": {
        "id": "V_2CxWRFqux7"
      }
    },
    {
      "cell_type": "markdown",
      "source": [
        "### Exercício 1\n",
        "\n",
        "Considere o seguinte `DataFrame`:\n",
        "```python\n",
        "dados = {\n",
        "    \"Região\": [\"Norte\", \"Norte\", \"Sul\", \"Sul\", \"Leste\", \"Leste\"],\n",
        "    \"Produto\": [\"Maçã\", \"Banana\", \"Maçã\", \"Banana\", \"Maçã\", \"Banana\"],\n",
        "    \"Vendas\": [120, 200, 150, 300, 250, 180],\n",
        "    \"Lucro\": [30, 50, 25, 70, 60, 40],\n",
        "    \"Desconto (%)\": [5, 10, 0, 15, 5, 10],\n",
        "}\n",
        "df = pd.DataFrame(dados)\n",
        "```\n",
        "Então:\n",
        "\n",
        "1. Use `DataFrame.agg()` para calcular, para cada coluna numérica do DataFrame:\n",
        "  * A soma;\n",
        "  * A média;\n",
        "  * O valor máximo;\n",
        "\n",
        "1. Use `DataFrame.transform()` para criar uma nova coluna chamada *Vendas Normalizadas*, que:\n",
        "  * Subtraia a média das vendas de cada valor.\n",
        "  * Divida pelo desvio padrão das vendas.\n",
        "  \n",
        "  Dica: Aplique a normalização (fórmula: $z = (x - média) / std$) diretamente sobre a coluna *Vendas*.\n"
      ],
      "metadata": {
        "id": "qf5QapCvnFsR"
      }
    },
    {
      "cell_type": "code",
      "source": [
        "import pandas as pd\n",
        "import numpy as np\n",
        "\n",
        "dados = {\n",
        "    \"Região\": [\"Norte\", \"Norte\", \"Sul\", \"Sul\", \"Leste\", \"Leste\"],\n",
        "    \"Produto\": [\"Maçã\", \"Banana\", \"Maçã\", \"Banana\", \"Maçã\", \"Banana\"],\n",
        "    \"Vendas\": [120, 200, 150, 300, 250, 180],\n",
        "    \"Lucro\": [30, 50, 25, 70, 60, 40],\n",
        "    \"Desconto (%)\": [5, 10, 0, 15, 5, 10],\n",
        "}\n",
        "\n",
        "ex1 = pd.DataFrame(dados)\n",
        "\n",
        "resultado = ex1.agg({'Vendas': 'sum', 'Lucro': 'mean', 'Desconto (%)': 'max'})\n",
        "print(resultado)\n",
        "\n",
        "normalizados = ex1.transform({'Vendas': lambda x: (x - x.mean()) / x.std()})\n",
        "ex1['Vendas Normalizadas'] = normalizados['Vendas']\n",
        "print(f\"\\n {ex1}\")"
      ],
      "metadata": {
        "id": "69Vp6ylX3yoR",
        "outputId": "2bc1aeb7-093f-4d17-cb7e-6672261e60aa",
        "colab": {
          "base_uri": "https://localhost:8080/"
        }
      },
      "execution_count": 17,
      "outputs": [
        {
          "output_type": "stream",
          "name": "stdout",
          "text": [
            "Vendas          1200.000000\n",
            "Lucro             45.833333\n",
            "Desconto (%)      15.000000\n",
            "dtype: float64\n",
            "\n",
            "   Região Produto  Vendas  Lucro  Desconto (%)  Vendas Normalizadas\n",
            "0  Norte    Maçã     120     30             5            -1.211565\n",
            "1  Norte  Banana     200     50            10             0.000000\n",
            "2    Sul    Maçã     150     25             0            -0.757228\n",
            "3    Sul  Banana     300     70            15             1.514456\n",
            "4  Leste    Maçã     250     60             5             0.757228\n",
            "5  Leste  Banana     180     40            10            -0.302891\n"
          ]
        }
      ]
    },
    {
      "cell_type": "markdown",
      "source": [
        "## Contagem de valores\n",
        "\n",
        "Pandas disponbiliza a função `count()` que pode ser aplicada para objetos do tipo `Series` e `DataFrame`. Esta função é usada para contar o número de valores **não nulos**, seja por linha ou coluna.\n",
        "\n",
        "```python\n",
        "DataFrame.count(axis=0, level=None, numeric_only=False)\n",
        "```\n",
        "1. `axis`:\n",
        "  * 0 ou 'index' (padrão): Conta os valores não nulos por coluna.\n",
        "  * 1 ou 'columns': Conta os valores não nulos por linha.\n",
        "\n",
        "1. `level` (opcional):\n",
        "  * Usado quando o DataFrame possui um índice hierárquico (MultiIndex).\n",
        "  * Especifica o nível do índice para calcular os valores.\n",
        "\n",
        "3. `numeric_only` (opcional):\n",
        "  * Se True, considera apenas colunas (ou linhas) numéricas\n",
        "\n",
        " Veja o exemplo:\n"
      ],
      "metadata": {
        "id": "hXQpZecoHpf1"
      }
    },
    {
      "cell_type": "code",
      "source": [
        "import pandas as pd\n",
        "import numpy as np\n",
        "\n",
        "# Criando um DataFrame de exemplo\n",
        "df = pd.DataFrame({\n",
        "    \"A\": [1, 2, np.nan, 4],\n",
        "    \"B\": [np.nan, 2, 3, 4],\n",
        "    \"C\": [\"foo\", \"bar\", np.nan, \"baz\"],\n",
        "    \"D\": [np.nan, np.nan, np.nan, np.nan],\n",
        "})\n",
        "\n",
        "print(\"DataFrame:\")\n",
        "print(df)\n",
        "\n",
        "# Contando valores não nulos em cada coluna\n",
        "print(\"\\nContagem por coluna:\")\n",
        "print(df.count())\n"
      ],
      "metadata": {
        "id": "pjgeukQAsnkg",
        "outputId": "1e8f2b43-eae5-4b8c-9bb0-ef682a2fd51a",
        "colab": {
          "base_uri": "https://localhost:8080/"
        }
      },
      "execution_count": 18,
      "outputs": [
        {
          "output_type": "stream",
          "name": "stdout",
          "text": [
            "DataFrame:\n",
            "     A    B    C   D\n",
            "0  1.0  NaN  foo NaN\n",
            "1  2.0  2.0  bar NaN\n",
            "2  NaN  3.0  NaN NaN\n",
            "3  4.0  4.0  baz NaN\n",
            "\n",
            "Contagem por coluna:\n",
            "A    3\n",
            "B    3\n",
            "C    3\n",
            "D    0\n",
            "dtype: int64\n"
          ]
        }
      ]
    },
    {
      "cell_type": "markdown",
      "source": [
        "O método `Series.value_counts()` em pandas conta a frequência de cada valor único em um objeto `Series`, ou seja, quantas vezes cada valor aparece.\n",
        "\n",
        "> É uma ferramenta muito útil para análise de dados categóricos, pois oferece uma visão rápida da distribuição de valores."
      ],
      "metadata": {
        "id": "6v2qA2VJtH8n"
      }
    },
    {
      "cell_type": "code",
      "source": [
        "import pandas as pd\n",
        "\n",
        "# Criando uma Series\n",
        "serie = pd.Series([\"maçã\", \"banana\", \"laranja\", \"maçã\", \"banana\", \"maçã\"])\n",
        "\n",
        "print(\"Série original:\")\n",
        "print(serie)\n",
        "\n",
        "# Contando valores únicos\n",
        "print(\"\\nContagem de valores:\")\n",
        "print(serie.value_counts())\n",
        "\n",
        "# Frequência relativa\n",
        "print(\"\\nFrequência relativa:\")\n",
        "print(serie.value_counts(normalize=True))"
      ],
      "metadata": {
        "id": "JRyMNXHZHqa0",
        "outputId": "bf6f4595-2de8-4cb3-d37d-dad3f7796124",
        "colab": {
          "base_uri": "https://localhost:8080/"
        }
      },
      "execution_count": 19,
      "outputs": [
        {
          "output_type": "stream",
          "name": "stdout",
          "text": [
            "Série original:\n",
            "0       maçã\n",
            "1     banana\n",
            "2    laranja\n",
            "3       maçã\n",
            "4     banana\n",
            "5       maçã\n",
            "dtype: object\n",
            "\n",
            "Contagem de valores:\n",
            "maçã       3\n",
            "banana     2\n",
            "laranja    1\n",
            "Name: count, dtype: int64\n",
            "\n",
            "Frequência relativa:\n",
            "maçã       0.500000\n",
            "banana     0.333333\n",
            "laranja    0.166667\n",
            "Name: proportion, dtype: float64\n"
          ]
        }
      ]
    },
    {
      "cell_type": "markdown",
      "source": [
        "## Métodos para *strings*"
      ],
      "metadata": {
        "id": "JanUf0V-Svcg"
      }
    },
    {
      "cell_type": "markdown",
      "source": [
        "`Series` possui um conjunto de métodos para processar atributos do tipo `str`."
      ],
      "metadata": {
        "id": "hUET6IJEHrDc"
      }
    },
    {
      "cell_type": "code",
      "source": [
        "s = pd.Series([\"A\", \"11B8\", \"99C\", \"Aaba\", \"Baca\", np.nan, \"CABA\", \"81dog\", \"cat\"])\n",
        "print( s.str.lower() )\n",
        "print(\"\\n\")\n",
        "print( s.str.findall(\"\\d+\") )\n",
        "\n",
        "## no caso de dataframe, então deve ser aplicado por coluna\n",
        "df = pd.DataFrame({\"A\": [\"AA99\", \"asda21\", \"21asd23\"],\n",
        "                   \"B\": [\"AA99\", \"asda21\", \"21asd23\"]})\n",
        "\n",
        "print(\"\\ndf:\\n\", df)\n",
        "\n",
        "df_transformed = df.agg(lambda col: col.str.findall(r\"\\d+\"))\n",
        "print(\"\\n\")\n",
        "print(df_transformed)"
      ],
      "metadata": {
        "id": "TzaQ7fCWJq-0",
        "outputId": "a7dd3fce-8e22-434e-89c4-d5fe4e1b9e94",
        "colab": {
          "base_uri": "https://localhost:8080/"
        }
      },
      "execution_count": 20,
      "outputs": [
        {
          "output_type": "stream",
          "name": "stdout",
          "text": [
            "0        a\n",
            "1     11b8\n",
            "2      99c\n",
            "3     aaba\n",
            "4     baca\n",
            "5      NaN\n",
            "6     caba\n",
            "7    81dog\n",
            "8      cat\n",
            "dtype: object\n",
            "\n",
            "\n",
            "0         []\n",
            "1    [11, 8]\n",
            "2       [99]\n",
            "3         []\n",
            "4         []\n",
            "5        NaN\n",
            "6         []\n",
            "7       [81]\n",
            "8         []\n",
            "dtype: object\n",
            "\n",
            "df:\n",
            "          A        B\n",
            "0     AA99     AA99\n",
            "1   asda21   asda21\n",
            "2  21asd23  21asd23\n",
            "\n",
            "\n",
            "          A         B\n",
            "0      [99]      [99]\n",
            "1      [21]      [21]\n",
            "2  [21, 23]  [21, 23]\n"
          ]
        }
      ]
    },
    {
      "cell_type": "markdown",
      "source": [
        "## Concatenação"
      ],
      "metadata": {
        "id": "f32V8P-MS65j"
      }
    },
    {
      "cell_type": "markdown",
      "source": [
        "A concatenação de objetos do *Pandas* é feito com `concat()`:"
      ],
      "metadata": {
        "id": "wn82NG0_Jsfz"
      }
    },
    {
      "cell_type": "code",
      "source": [
        "df = pd.DataFrame(np.random.randn(10, 4))\n",
        "df"
      ],
      "metadata": {
        "id": "lmJcxT55KiIP",
        "outputId": "bad51a35-472e-43a8-b65e-d0d27acb50a3",
        "colab": {
          "base_uri": "https://localhost:8080/",
          "height": 363
        }
      },
      "execution_count": 21,
      "outputs": [
        {
          "output_type": "execute_result",
          "data": {
            "text/plain": [
              "          0         1         2         3\n",
              "0  0.540544  1.396326  0.597960  0.196804\n",
              "1  0.389461 -1.116041 -0.463192  0.468393\n",
              "2  0.726404 -0.317965 -0.105111  1.779560\n",
              "3  0.623002 -0.416391  0.140079  0.237046\n",
              "4  2.215274  0.335986 -0.931562 -0.495075\n",
              "5  0.031679  1.096130  0.845927  0.243280\n",
              "6  1.325723 -0.490582 -0.908892  0.419722\n",
              "7 -1.921500  1.088227  0.056384  0.877543\n",
              "8 -0.968009  2.035591 -1.958814  0.891238\n",
              "9  0.849085 -0.477073  0.291611  0.427027"
            ],
            "text/html": [
              "\n",
              "  <div id=\"df-ed4bf8af-c7e8-41c6-b123-68349331d286\" class=\"colab-df-container\">\n",
              "    <div>\n",
              "<style scoped>\n",
              "    .dataframe tbody tr th:only-of-type {\n",
              "        vertical-align: middle;\n",
              "    }\n",
              "\n",
              "    .dataframe tbody tr th {\n",
              "        vertical-align: top;\n",
              "    }\n",
              "\n",
              "    .dataframe thead th {\n",
              "        text-align: right;\n",
              "    }\n",
              "</style>\n",
              "<table border=\"1\" class=\"dataframe\">\n",
              "  <thead>\n",
              "    <tr style=\"text-align: right;\">\n",
              "      <th></th>\n",
              "      <th>0</th>\n",
              "      <th>1</th>\n",
              "      <th>2</th>\n",
              "      <th>3</th>\n",
              "    </tr>\n",
              "  </thead>\n",
              "  <tbody>\n",
              "    <tr>\n",
              "      <th>0</th>\n",
              "      <td>0.540544</td>\n",
              "      <td>1.396326</td>\n",
              "      <td>0.597960</td>\n",
              "      <td>0.196804</td>\n",
              "    </tr>\n",
              "    <tr>\n",
              "      <th>1</th>\n",
              "      <td>0.389461</td>\n",
              "      <td>-1.116041</td>\n",
              "      <td>-0.463192</td>\n",
              "      <td>0.468393</td>\n",
              "    </tr>\n",
              "    <tr>\n",
              "      <th>2</th>\n",
              "      <td>0.726404</td>\n",
              "      <td>-0.317965</td>\n",
              "      <td>-0.105111</td>\n",
              "      <td>1.779560</td>\n",
              "    </tr>\n",
              "    <tr>\n",
              "      <th>3</th>\n",
              "      <td>0.623002</td>\n",
              "      <td>-0.416391</td>\n",
              "      <td>0.140079</td>\n",
              "      <td>0.237046</td>\n",
              "    </tr>\n",
              "    <tr>\n",
              "      <th>4</th>\n",
              "      <td>2.215274</td>\n",
              "      <td>0.335986</td>\n",
              "      <td>-0.931562</td>\n",
              "      <td>-0.495075</td>\n",
              "    </tr>\n",
              "    <tr>\n",
              "      <th>5</th>\n",
              "      <td>0.031679</td>\n",
              "      <td>1.096130</td>\n",
              "      <td>0.845927</td>\n",
              "      <td>0.243280</td>\n",
              "    </tr>\n",
              "    <tr>\n",
              "      <th>6</th>\n",
              "      <td>1.325723</td>\n",
              "      <td>-0.490582</td>\n",
              "      <td>-0.908892</td>\n",
              "      <td>0.419722</td>\n",
              "    </tr>\n",
              "    <tr>\n",
              "      <th>7</th>\n",
              "      <td>-1.921500</td>\n",
              "      <td>1.088227</td>\n",
              "      <td>0.056384</td>\n",
              "      <td>0.877543</td>\n",
              "    </tr>\n",
              "    <tr>\n",
              "      <th>8</th>\n",
              "      <td>-0.968009</td>\n",
              "      <td>2.035591</td>\n",
              "      <td>-1.958814</td>\n",
              "      <td>0.891238</td>\n",
              "    </tr>\n",
              "    <tr>\n",
              "      <th>9</th>\n",
              "      <td>0.849085</td>\n",
              "      <td>-0.477073</td>\n",
              "      <td>0.291611</td>\n",
              "      <td>0.427027</td>\n",
              "    </tr>\n",
              "  </tbody>\n",
              "</table>\n",
              "</div>\n",
              "    <div class=\"colab-df-buttons\">\n",
              "\n",
              "  <div class=\"colab-df-container\">\n",
              "    <button class=\"colab-df-convert\" onclick=\"convertToInteractive('df-ed4bf8af-c7e8-41c6-b123-68349331d286')\"\n",
              "            title=\"Convert this dataframe to an interactive table.\"\n",
              "            style=\"display:none;\">\n",
              "\n",
              "  <svg xmlns=\"http://www.w3.org/2000/svg\" height=\"24px\" viewBox=\"0 -960 960 960\">\n",
              "    <path d=\"M120-120v-720h720v720H120Zm60-500h600v-160H180v160Zm220 220h160v-160H400v160Zm0 220h160v-160H400v160ZM180-400h160v-160H180v160Zm440 0h160v-160H620v160ZM180-180h160v-160H180v160Zm440 0h160v-160H620v160Z\"/>\n",
              "  </svg>\n",
              "    </button>\n",
              "\n",
              "  <style>\n",
              "    .colab-df-container {\n",
              "      display:flex;\n",
              "      gap: 12px;\n",
              "    }\n",
              "\n",
              "    .colab-df-convert {\n",
              "      background-color: #E8F0FE;\n",
              "      border: none;\n",
              "      border-radius: 50%;\n",
              "      cursor: pointer;\n",
              "      display: none;\n",
              "      fill: #1967D2;\n",
              "      height: 32px;\n",
              "      padding: 0 0 0 0;\n",
              "      width: 32px;\n",
              "    }\n",
              "\n",
              "    .colab-df-convert:hover {\n",
              "      background-color: #E2EBFA;\n",
              "      box-shadow: 0px 1px 2px rgba(60, 64, 67, 0.3), 0px 1px 3px 1px rgba(60, 64, 67, 0.15);\n",
              "      fill: #174EA6;\n",
              "    }\n",
              "\n",
              "    .colab-df-buttons div {\n",
              "      margin-bottom: 4px;\n",
              "    }\n",
              "\n",
              "    [theme=dark] .colab-df-convert {\n",
              "      background-color: #3B4455;\n",
              "      fill: #D2E3FC;\n",
              "    }\n",
              "\n",
              "    [theme=dark] .colab-df-convert:hover {\n",
              "      background-color: #434B5C;\n",
              "      box-shadow: 0px 1px 3px 1px rgba(0, 0, 0, 0.15);\n",
              "      filter: drop-shadow(0px 1px 2px rgba(0, 0, 0, 0.3));\n",
              "      fill: #FFFFFF;\n",
              "    }\n",
              "  </style>\n",
              "\n",
              "    <script>\n",
              "      const buttonEl =\n",
              "        document.querySelector('#df-ed4bf8af-c7e8-41c6-b123-68349331d286 button.colab-df-convert');\n",
              "      buttonEl.style.display =\n",
              "        google.colab.kernel.accessAllowed ? 'block' : 'none';\n",
              "\n",
              "      async function convertToInteractive(key) {\n",
              "        const element = document.querySelector('#df-ed4bf8af-c7e8-41c6-b123-68349331d286');\n",
              "        const dataTable =\n",
              "          await google.colab.kernel.invokeFunction('convertToInteractive',\n",
              "                                                    [key], {});\n",
              "        if (!dataTable) return;\n",
              "\n",
              "        const docLinkHtml = 'Like what you see? Visit the ' +\n",
              "          '<a target=\"_blank\" href=https://colab.research.google.com/notebooks/data_table.ipynb>data table notebook</a>'\n",
              "          + ' to learn more about interactive tables.';\n",
              "        element.innerHTML = '';\n",
              "        dataTable['output_type'] = 'display_data';\n",
              "        await google.colab.output.renderOutput(dataTable, element);\n",
              "        const docLink = document.createElement('div');\n",
              "        docLink.innerHTML = docLinkHtml;\n",
              "        element.appendChild(docLink);\n",
              "      }\n",
              "    </script>\n",
              "  </div>\n",
              "\n",
              "\n",
              "    <div id=\"df-f946d882-03be-4211-87a4-70dab5542a73\">\n",
              "      <button class=\"colab-df-quickchart\" onclick=\"quickchart('df-f946d882-03be-4211-87a4-70dab5542a73')\"\n",
              "                title=\"Suggest charts\"\n",
              "                style=\"display:none;\">\n",
              "\n",
              "<svg xmlns=\"http://www.w3.org/2000/svg\" height=\"24px\"viewBox=\"0 0 24 24\"\n",
              "     width=\"24px\">\n",
              "    <g>\n",
              "        <path d=\"M19 3H5c-1.1 0-2 .9-2 2v14c0 1.1.9 2 2 2h14c1.1 0 2-.9 2-2V5c0-1.1-.9-2-2-2zM9 17H7v-7h2v7zm4 0h-2V7h2v10zm4 0h-2v-4h2v4z\"/>\n",
              "    </g>\n",
              "</svg>\n",
              "      </button>\n",
              "\n",
              "<style>\n",
              "  .colab-df-quickchart {\n",
              "      --bg-color: #E8F0FE;\n",
              "      --fill-color: #1967D2;\n",
              "      --hover-bg-color: #E2EBFA;\n",
              "      --hover-fill-color: #174EA6;\n",
              "      --disabled-fill-color: #AAA;\n",
              "      --disabled-bg-color: #DDD;\n",
              "  }\n",
              "\n",
              "  [theme=dark] .colab-df-quickchart {\n",
              "      --bg-color: #3B4455;\n",
              "      --fill-color: #D2E3FC;\n",
              "      --hover-bg-color: #434B5C;\n",
              "      --hover-fill-color: #FFFFFF;\n",
              "      --disabled-bg-color: #3B4455;\n",
              "      --disabled-fill-color: #666;\n",
              "  }\n",
              "\n",
              "  .colab-df-quickchart {\n",
              "    background-color: var(--bg-color);\n",
              "    border: none;\n",
              "    border-radius: 50%;\n",
              "    cursor: pointer;\n",
              "    display: none;\n",
              "    fill: var(--fill-color);\n",
              "    height: 32px;\n",
              "    padding: 0;\n",
              "    width: 32px;\n",
              "  }\n",
              "\n",
              "  .colab-df-quickchart:hover {\n",
              "    background-color: var(--hover-bg-color);\n",
              "    box-shadow: 0 1px 2px rgba(60, 64, 67, 0.3), 0 1px 3px 1px rgba(60, 64, 67, 0.15);\n",
              "    fill: var(--button-hover-fill-color);\n",
              "  }\n",
              "\n",
              "  .colab-df-quickchart-complete:disabled,\n",
              "  .colab-df-quickchart-complete:disabled:hover {\n",
              "    background-color: var(--disabled-bg-color);\n",
              "    fill: var(--disabled-fill-color);\n",
              "    box-shadow: none;\n",
              "  }\n",
              "\n",
              "  .colab-df-spinner {\n",
              "    border: 2px solid var(--fill-color);\n",
              "    border-color: transparent;\n",
              "    border-bottom-color: var(--fill-color);\n",
              "    animation:\n",
              "      spin 1s steps(1) infinite;\n",
              "  }\n",
              "\n",
              "  @keyframes spin {\n",
              "    0% {\n",
              "      border-color: transparent;\n",
              "      border-bottom-color: var(--fill-color);\n",
              "      border-left-color: var(--fill-color);\n",
              "    }\n",
              "    20% {\n",
              "      border-color: transparent;\n",
              "      border-left-color: var(--fill-color);\n",
              "      border-top-color: var(--fill-color);\n",
              "    }\n",
              "    30% {\n",
              "      border-color: transparent;\n",
              "      border-left-color: var(--fill-color);\n",
              "      border-top-color: var(--fill-color);\n",
              "      border-right-color: var(--fill-color);\n",
              "    }\n",
              "    40% {\n",
              "      border-color: transparent;\n",
              "      border-right-color: var(--fill-color);\n",
              "      border-top-color: var(--fill-color);\n",
              "    }\n",
              "    60% {\n",
              "      border-color: transparent;\n",
              "      border-right-color: var(--fill-color);\n",
              "    }\n",
              "    80% {\n",
              "      border-color: transparent;\n",
              "      border-right-color: var(--fill-color);\n",
              "      border-bottom-color: var(--fill-color);\n",
              "    }\n",
              "    90% {\n",
              "      border-color: transparent;\n",
              "      border-bottom-color: var(--fill-color);\n",
              "    }\n",
              "  }\n",
              "</style>\n",
              "\n",
              "      <script>\n",
              "        async function quickchart(key) {\n",
              "          const quickchartButtonEl =\n",
              "            document.querySelector('#' + key + ' button');\n",
              "          quickchartButtonEl.disabled = true;  // To prevent multiple clicks.\n",
              "          quickchartButtonEl.classList.add('colab-df-spinner');\n",
              "          try {\n",
              "            const charts = await google.colab.kernel.invokeFunction(\n",
              "                'suggestCharts', [key], {});\n",
              "          } catch (error) {\n",
              "            console.error('Error during call to suggestCharts:', error);\n",
              "          }\n",
              "          quickchartButtonEl.classList.remove('colab-df-spinner');\n",
              "          quickchartButtonEl.classList.add('colab-df-quickchart-complete');\n",
              "        }\n",
              "        (() => {\n",
              "          let quickchartButtonEl =\n",
              "            document.querySelector('#df-f946d882-03be-4211-87a4-70dab5542a73 button');\n",
              "          quickchartButtonEl.style.display =\n",
              "            google.colab.kernel.accessAllowed ? 'block' : 'none';\n",
              "        })();\n",
              "      </script>\n",
              "    </div>\n",
              "\n",
              "  <div id=\"id_407374cc-4584-488b-993a-92a9594e4adf\">\n",
              "    <style>\n",
              "      .colab-df-generate {\n",
              "        background-color: #E8F0FE;\n",
              "        border: none;\n",
              "        border-radius: 50%;\n",
              "        cursor: pointer;\n",
              "        display: none;\n",
              "        fill: #1967D2;\n",
              "        height: 32px;\n",
              "        padding: 0 0 0 0;\n",
              "        width: 32px;\n",
              "      }\n",
              "\n",
              "      .colab-df-generate:hover {\n",
              "        background-color: #E2EBFA;\n",
              "        box-shadow: 0px 1px 2px rgba(60, 64, 67, 0.3), 0px 1px 3px 1px rgba(60, 64, 67, 0.15);\n",
              "        fill: #174EA6;\n",
              "      }\n",
              "\n",
              "      [theme=dark] .colab-df-generate {\n",
              "        background-color: #3B4455;\n",
              "        fill: #D2E3FC;\n",
              "      }\n",
              "\n",
              "      [theme=dark] .colab-df-generate:hover {\n",
              "        background-color: #434B5C;\n",
              "        box-shadow: 0px 1px 3px 1px rgba(0, 0, 0, 0.15);\n",
              "        filter: drop-shadow(0px 1px 2px rgba(0, 0, 0, 0.3));\n",
              "        fill: #FFFFFF;\n",
              "      }\n",
              "    </style>\n",
              "    <button class=\"colab-df-generate\" onclick=\"generateWithVariable('df')\"\n",
              "            title=\"Generate code using this dataframe.\"\n",
              "            style=\"display:none;\">\n",
              "\n",
              "  <svg xmlns=\"http://www.w3.org/2000/svg\" height=\"24px\"viewBox=\"0 0 24 24\"\n",
              "       width=\"24px\">\n",
              "    <path d=\"M7,19H8.4L18.45,9,17,7.55,7,17.6ZM5,21V16.75L18.45,3.32a2,2,0,0,1,2.83,0l1.4,1.43a1.91,1.91,0,0,1,.58,1.4,1.91,1.91,0,0,1-.58,1.4L9.25,21ZM18.45,9,17,7.55Zm-12,3A5.31,5.31,0,0,0,4.9,8.1,5.31,5.31,0,0,0,1,6.5,5.31,5.31,0,0,0,4.9,4.9,5.31,5.31,0,0,0,6.5,1,5.31,5.31,0,0,0,8.1,4.9,5.31,5.31,0,0,0,12,6.5,5.46,5.46,0,0,0,6.5,12Z\"/>\n",
              "  </svg>\n",
              "    </button>\n",
              "    <script>\n",
              "      (() => {\n",
              "      const buttonEl =\n",
              "        document.querySelector('#id_407374cc-4584-488b-993a-92a9594e4adf button.colab-df-generate');\n",
              "      buttonEl.style.display =\n",
              "        google.colab.kernel.accessAllowed ? 'block' : 'none';\n",
              "\n",
              "      buttonEl.onclick = () => {\n",
              "        google.colab.notebook.generateWithVariable('df');\n",
              "      }\n",
              "      })();\n",
              "    </script>\n",
              "  </div>\n",
              "\n",
              "    </div>\n",
              "  </div>\n"
            ],
            "application/vnd.google.colaboratory.intrinsic+json": {
              "type": "dataframe",
              "variable_name": "df",
              "summary": "{\n  \"name\": \"df\",\n  \"rows\": 10,\n  \"fields\": [\n    {\n      \"column\": 0,\n      \"properties\": {\n        \"dtype\": \"number\",\n        \"std\": 1.1509860441225572,\n        \"min\": -1.9215000950362298,\n        \"max\": 2.2152744185543503,\n        \"num_unique_values\": 10,\n        \"samples\": [\n          -0.9680087444341476,\n          0.38946071362621176,\n          0.031678811855310594\n        ],\n        \"semantic_type\": \"\",\n        \"description\": \"\"\n      }\n    },\n    {\n      \"column\": 1,\n      \"properties\": {\n        \"dtype\": \"number\",\n        \"std\": 1.032685766657637,\n        \"min\": -1.1160409697503555,\n        \"max\": 2.035591137551422,\n        \"num_unique_values\": 10,\n        \"samples\": [\n          2.035591137551422,\n          -1.1160409697503555,\n          1.0961304369991056\n        ],\n        \"semantic_type\": \"\",\n        \"description\": \"\"\n      }\n    },\n    {\n      \"column\": 2,\n      \"properties\": {\n        \"dtype\": \"number\",\n        \"std\": 0.8395903447877554,\n        \"min\": -1.9588144536092247,\n        \"max\": 0.8459265606227668,\n        \"num_unique_values\": 10,\n        \"samples\": [\n          -1.9588144536092247,\n          -0.46319233934079407,\n          0.8459265606227668\n        ],\n        \"semantic_type\": \"\",\n        \"description\": \"\"\n      }\n    },\n    {\n      \"column\": 3,\n      \"properties\": {\n        \"dtype\": \"number\",\n        \"std\": 0.5927894062234792,\n        \"min\": -0.4950746020328261,\n        \"max\": 1.7795602812899511,\n        \"num_unique_values\": 10,\n        \"samples\": [\n          0.8912383545364948,\n          0.4683926639766583,\n          0.24328027286911577\n        ],\n        \"semantic_type\": \"\",\n        \"description\": \"\"\n      }\n    }\n  ]\n}"
            }
          },
          "metadata": {},
          "execution_count": 21
        }
      ]
    },
    {
      "cell_type": "code",
      "source": [
        "# quebra em vários pedaços\n",
        "pieces = (df[:3], df[3:7], df[7:]) ## tupla de DataFrames\n",
        "\n",
        "# junção dos pedaços\n",
        "pd.concat(pieces, axis=0)"
      ],
      "metadata": {
        "id": "Q_0LUjuwKkp1",
        "outputId": "e36d7283-24b1-4df1-ff6b-4fdb78124fc6",
        "colab": {
          "base_uri": "https://localhost:8080/",
          "height": 363
        }
      },
      "execution_count": 22,
      "outputs": [
        {
          "output_type": "execute_result",
          "data": {
            "text/plain": [
              "          0         1         2         3\n",
              "0  0.540544  1.396326  0.597960  0.196804\n",
              "1  0.389461 -1.116041 -0.463192  0.468393\n",
              "2  0.726404 -0.317965 -0.105111  1.779560\n",
              "3  0.623002 -0.416391  0.140079  0.237046\n",
              "4  2.215274  0.335986 -0.931562 -0.495075\n",
              "5  0.031679  1.096130  0.845927  0.243280\n",
              "6  1.325723 -0.490582 -0.908892  0.419722\n",
              "7 -1.921500  1.088227  0.056384  0.877543\n",
              "8 -0.968009  2.035591 -1.958814  0.891238\n",
              "9  0.849085 -0.477073  0.291611  0.427027"
            ],
            "text/html": [
              "\n",
              "  <div id=\"df-615cfa54-50d5-4214-8e09-9a08ad580d7c\" class=\"colab-df-container\">\n",
              "    <div>\n",
              "<style scoped>\n",
              "    .dataframe tbody tr th:only-of-type {\n",
              "        vertical-align: middle;\n",
              "    }\n",
              "\n",
              "    .dataframe tbody tr th {\n",
              "        vertical-align: top;\n",
              "    }\n",
              "\n",
              "    .dataframe thead th {\n",
              "        text-align: right;\n",
              "    }\n",
              "</style>\n",
              "<table border=\"1\" class=\"dataframe\">\n",
              "  <thead>\n",
              "    <tr style=\"text-align: right;\">\n",
              "      <th></th>\n",
              "      <th>0</th>\n",
              "      <th>1</th>\n",
              "      <th>2</th>\n",
              "      <th>3</th>\n",
              "    </tr>\n",
              "  </thead>\n",
              "  <tbody>\n",
              "    <tr>\n",
              "      <th>0</th>\n",
              "      <td>0.540544</td>\n",
              "      <td>1.396326</td>\n",
              "      <td>0.597960</td>\n",
              "      <td>0.196804</td>\n",
              "    </tr>\n",
              "    <tr>\n",
              "      <th>1</th>\n",
              "      <td>0.389461</td>\n",
              "      <td>-1.116041</td>\n",
              "      <td>-0.463192</td>\n",
              "      <td>0.468393</td>\n",
              "    </tr>\n",
              "    <tr>\n",
              "      <th>2</th>\n",
              "      <td>0.726404</td>\n",
              "      <td>-0.317965</td>\n",
              "      <td>-0.105111</td>\n",
              "      <td>1.779560</td>\n",
              "    </tr>\n",
              "    <tr>\n",
              "      <th>3</th>\n",
              "      <td>0.623002</td>\n",
              "      <td>-0.416391</td>\n",
              "      <td>0.140079</td>\n",
              "      <td>0.237046</td>\n",
              "    </tr>\n",
              "    <tr>\n",
              "      <th>4</th>\n",
              "      <td>2.215274</td>\n",
              "      <td>0.335986</td>\n",
              "      <td>-0.931562</td>\n",
              "      <td>-0.495075</td>\n",
              "    </tr>\n",
              "    <tr>\n",
              "      <th>5</th>\n",
              "      <td>0.031679</td>\n",
              "      <td>1.096130</td>\n",
              "      <td>0.845927</td>\n",
              "      <td>0.243280</td>\n",
              "    </tr>\n",
              "    <tr>\n",
              "      <th>6</th>\n",
              "      <td>1.325723</td>\n",
              "      <td>-0.490582</td>\n",
              "      <td>-0.908892</td>\n",
              "      <td>0.419722</td>\n",
              "    </tr>\n",
              "    <tr>\n",
              "      <th>7</th>\n",
              "      <td>-1.921500</td>\n",
              "      <td>1.088227</td>\n",
              "      <td>0.056384</td>\n",
              "      <td>0.877543</td>\n",
              "    </tr>\n",
              "    <tr>\n",
              "      <th>8</th>\n",
              "      <td>-0.968009</td>\n",
              "      <td>2.035591</td>\n",
              "      <td>-1.958814</td>\n",
              "      <td>0.891238</td>\n",
              "    </tr>\n",
              "    <tr>\n",
              "      <th>9</th>\n",
              "      <td>0.849085</td>\n",
              "      <td>-0.477073</td>\n",
              "      <td>0.291611</td>\n",
              "      <td>0.427027</td>\n",
              "    </tr>\n",
              "  </tbody>\n",
              "</table>\n",
              "</div>\n",
              "    <div class=\"colab-df-buttons\">\n",
              "\n",
              "  <div class=\"colab-df-container\">\n",
              "    <button class=\"colab-df-convert\" onclick=\"convertToInteractive('df-615cfa54-50d5-4214-8e09-9a08ad580d7c')\"\n",
              "            title=\"Convert this dataframe to an interactive table.\"\n",
              "            style=\"display:none;\">\n",
              "\n",
              "  <svg xmlns=\"http://www.w3.org/2000/svg\" height=\"24px\" viewBox=\"0 -960 960 960\">\n",
              "    <path d=\"M120-120v-720h720v720H120Zm60-500h600v-160H180v160Zm220 220h160v-160H400v160Zm0 220h160v-160H400v160ZM180-400h160v-160H180v160Zm440 0h160v-160H620v160ZM180-180h160v-160H180v160Zm440 0h160v-160H620v160Z\"/>\n",
              "  </svg>\n",
              "    </button>\n",
              "\n",
              "  <style>\n",
              "    .colab-df-container {\n",
              "      display:flex;\n",
              "      gap: 12px;\n",
              "    }\n",
              "\n",
              "    .colab-df-convert {\n",
              "      background-color: #E8F0FE;\n",
              "      border: none;\n",
              "      border-radius: 50%;\n",
              "      cursor: pointer;\n",
              "      display: none;\n",
              "      fill: #1967D2;\n",
              "      height: 32px;\n",
              "      padding: 0 0 0 0;\n",
              "      width: 32px;\n",
              "    }\n",
              "\n",
              "    .colab-df-convert:hover {\n",
              "      background-color: #E2EBFA;\n",
              "      box-shadow: 0px 1px 2px rgba(60, 64, 67, 0.3), 0px 1px 3px 1px rgba(60, 64, 67, 0.15);\n",
              "      fill: #174EA6;\n",
              "    }\n",
              "\n",
              "    .colab-df-buttons div {\n",
              "      margin-bottom: 4px;\n",
              "    }\n",
              "\n",
              "    [theme=dark] .colab-df-convert {\n",
              "      background-color: #3B4455;\n",
              "      fill: #D2E3FC;\n",
              "    }\n",
              "\n",
              "    [theme=dark] .colab-df-convert:hover {\n",
              "      background-color: #434B5C;\n",
              "      box-shadow: 0px 1px 3px 1px rgba(0, 0, 0, 0.15);\n",
              "      filter: drop-shadow(0px 1px 2px rgba(0, 0, 0, 0.3));\n",
              "      fill: #FFFFFF;\n",
              "    }\n",
              "  </style>\n",
              "\n",
              "    <script>\n",
              "      const buttonEl =\n",
              "        document.querySelector('#df-615cfa54-50d5-4214-8e09-9a08ad580d7c button.colab-df-convert');\n",
              "      buttonEl.style.display =\n",
              "        google.colab.kernel.accessAllowed ? 'block' : 'none';\n",
              "\n",
              "      async function convertToInteractive(key) {\n",
              "        const element = document.querySelector('#df-615cfa54-50d5-4214-8e09-9a08ad580d7c');\n",
              "        const dataTable =\n",
              "          await google.colab.kernel.invokeFunction('convertToInteractive',\n",
              "                                                    [key], {});\n",
              "        if (!dataTable) return;\n",
              "\n",
              "        const docLinkHtml = 'Like what you see? Visit the ' +\n",
              "          '<a target=\"_blank\" href=https://colab.research.google.com/notebooks/data_table.ipynb>data table notebook</a>'\n",
              "          + ' to learn more about interactive tables.';\n",
              "        element.innerHTML = '';\n",
              "        dataTable['output_type'] = 'display_data';\n",
              "        await google.colab.output.renderOutput(dataTable, element);\n",
              "        const docLink = document.createElement('div');\n",
              "        docLink.innerHTML = docLinkHtml;\n",
              "        element.appendChild(docLink);\n",
              "      }\n",
              "    </script>\n",
              "  </div>\n",
              "\n",
              "\n",
              "    <div id=\"df-edd850c4-ce0e-4a24-87cb-5dd48fc41383\">\n",
              "      <button class=\"colab-df-quickchart\" onclick=\"quickchart('df-edd850c4-ce0e-4a24-87cb-5dd48fc41383')\"\n",
              "                title=\"Suggest charts\"\n",
              "                style=\"display:none;\">\n",
              "\n",
              "<svg xmlns=\"http://www.w3.org/2000/svg\" height=\"24px\"viewBox=\"0 0 24 24\"\n",
              "     width=\"24px\">\n",
              "    <g>\n",
              "        <path d=\"M19 3H5c-1.1 0-2 .9-2 2v14c0 1.1.9 2 2 2h14c1.1 0 2-.9 2-2V5c0-1.1-.9-2-2-2zM9 17H7v-7h2v7zm4 0h-2V7h2v10zm4 0h-2v-4h2v4z\"/>\n",
              "    </g>\n",
              "</svg>\n",
              "      </button>\n",
              "\n",
              "<style>\n",
              "  .colab-df-quickchart {\n",
              "      --bg-color: #E8F0FE;\n",
              "      --fill-color: #1967D2;\n",
              "      --hover-bg-color: #E2EBFA;\n",
              "      --hover-fill-color: #174EA6;\n",
              "      --disabled-fill-color: #AAA;\n",
              "      --disabled-bg-color: #DDD;\n",
              "  }\n",
              "\n",
              "  [theme=dark] .colab-df-quickchart {\n",
              "      --bg-color: #3B4455;\n",
              "      --fill-color: #D2E3FC;\n",
              "      --hover-bg-color: #434B5C;\n",
              "      --hover-fill-color: #FFFFFF;\n",
              "      --disabled-bg-color: #3B4455;\n",
              "      --disabled-fill-color: #666;\n",
              "  }\n",
              "\n",
              "  .colab-df-quickchart {\n",
              "    background-color: var(--bg-color);\n",
              "    border: none;\n",
              "    border-radius: 50%;\n",
              "    cursor: pointer;\n",
              "    display: none;\n",
              "    fill: var(--fill-color);\n",
              "    height: 32px;\n",
              "    padding: 0;\n",
              "    width: 32px;\n",
              "  }\n",
              "\n",
              "  .colab-df-quickchart:hover {\n",
              "    background-color: var(--hover-bg-color);\n",
              "    box-shadow: 0 1px 2px rgba(60, 64, 67, 0.3), 0 1px 3px 1px rgba(60, 64, 67, 0.15);\n",
              "    fill: var(--button-hover-fill-color);\n",
              "  }\n",
              "\n",
              "  .colab-df-quickchart-complete:disabled,\n",
              "  .colab-df-quickchart-complete:disabled:hover {\n",
              "    background-color: var(--disabled-bg-color);\n",
              "    fill: var(--disabled-fill-color);\n",
              "    box-shadow: none;\n",
              "  }\n",
              "\n",
              "  .colab-df-spinner {\n",
              "    border: 2px solid var(--fill-color);\n",
              "    border-color: transparent;\n",
              "    border-bottom-color: var(--fill-color);\n",
              "    animation:\n",
              "      spin 1s steps(1) infinite;\n",
              "  }\n",
              "\n",
              "  @keyframes spin {\n",
              "    0% {\n",
              "      border-color: transparent;\n",
              "      border-bottom-color: var(--fill-color);\n",
              "      border-left-color: var(--fill-color);\n",
              "    }\n",
              "    20% {\n",
              "      border-color: transparent;\n",
              "      border-left-color: var(--fill-color);\n",
              "      border-top-color: var(--fill-color);\n",
              "    }\n",
              "    30% {\n",
              "      border-color: transparent;\n",
              "      border-left-color: var(--fill-color);\n",
              "      border-top-color: var(--fill-color);\n",
              "      border-right-color: var(--fill-color);\n",
              "    }\n",
              "    40% {\n",
              "      border-color: transparent;\n",
              "      border-right-color: var(--fill-color);\n",
              "      border-top-color: var(--fill-color);\n",
              "    }\n",
              "    60% {\n",
              "      border-color: transparent;\n",
              "      border-right-color: var(--fill-color);\n",
              "    }\n",
              "    80% {\n",
              "      border-color: transparent;\n",
              "      border-right-color: var(--fill-color);\n",
              "      border-bottom-color: var(--fill-color);\n",
              "    }\n",
              "    90% {\n",
              "      border-color: transparent;\n",
              "      border-bottom-color: var(--fill-color);\n",
              "    }\n",
              "  }\n",
              "</style>\n",
              "\n",
              "      <script>\n",
              "        async function quickchart(key) {\n",
              "          const quickchartButtonEl =\n",
              "            document.querySelector('#' + key + ' button');\n",
              "          quickchartButtonEl.disabled = true;  // To prevent multiple clicks.\n",
              "          quickchartButtonEl.classList.add('colab-df-spinner');\n",
              "          try {\n",
              "            const charts = await google.colab.kernel.invokeFunction(\n",
              "                'suggestCharts', [key], {});\n",
              "          } catch (error) {\n",
              "            console.error('Error during call to suggestCharts:', error);\n",
              "          }\n",
              "          quickchartButtonEl.classList.remove('colab-df-spinner');\n",
              "          quickchartButtonEl.classList.add('colab-df-quickchart-complete');\n",
              "        }\n",
              "        (() => {\n",
              "          let quickchartButtonEl =\n",
              "            document.querySelector('#df-edd850c4-ce0e-4a24-87cb-5dd48fc41383 button');\n",
              "          quickchartButtonEl.style.display =\n",
              "            google.colab.kernel.accessAllowed ? 'block' : 'none';\n",
              "        })();\n",
              "      </script>\n",
              "    </div>\n",
              "\n",
              "    </div>\n",
              "  </div>\n"
            ],
            "application/vnd.google.colaboratory.intrinsic+json": {
              "type": "dataframe",
              "summary": "{\n  \"name\": \"pd\",\n  \"rows\": 10,\n  \"fields\": [\n    {\n      \"column\": 0,\n      \"properties\": {\n        \"dtype\": \"number\",\n        \"std\": 1.1509860441225572,\n        \"min\": -1.9215000950362298,\n        \"max\": 2.2152744185543503,\n        \"num_unique_values\": 10,\n        \"samples\": [\n          -0.9680087444341476,\n          0.38946071362621176,\n          0.031678811855310594\n        ],\n        \"semantic_type\": \"\",\n        \"description\": \"\"\n      }\n    },\n    {\n      \"column\": 1,\n      \"properties\": {\n        \"dtype\": \"number\",\n        \"std\": 1.032685766657637,\n        \"min\": -1.1160409697503555,\n        \"max\": 2.035591137551422,\n        \"num_unique_values\": 10,\n        \"samples\": [\n          2.035591137551422,\n          -1.1160409697503555,\n          1.0961304369991056\n        ],\n        \"semantic_type\": \"\",\n        \"description\": \"\"\n      }\n    },\n    {\n      \"column\": 2,\n      \"properties\": {\n        \"dtype\": \"number\",\n        \"std\": 0.8395903447877554,\n        \"min\": -1.9588144536092247,\n        \"max\": 0.8459265606227668,\n        \"num_unique_values\": 10,\n        \"samples\": [\n          -1.9588144536092247,\n          -0.46319233934079407,\n          0.8459265606227668\n        ],\n        \"semantic_type\": \"\",\n        \"description\": \"\"\n      }\n    },\n    {\n      \"column\": 3,\n      \"properties\": {\n        \"dtype\": \"number\",\n        \"std\": 0.5927894062234792,\n        \"min\": -0.4950746020328261,\n        \"max\": 1.7795602812899511,\n        \"num_unique_values\": 10,\n        \"samples\": [\n          0.8912383545364948,\n          0.4683926639766583,\n          0.24328027286911577\n        ],\n        \"semantic_type\": \"\",\n        \"description\": \"\"\n      }\n    }\n  ]\n}"
            }
          },
          "metadata": {},
          "execution_count": 22
        }
      ]
    },
    {
      "cell_type": "markdown",
      "source": [
        "## Exercício 2\n",
        "\n",
        "Considere o seguinte `DataFrame`:\n",
        "```python\n",
        "dados = {\n",
        "    \"Cliente\": [\"Ana\", \"bruno\", \"Carlos\", \"Diana\", \"Eduarda\", np.nan, \"fábio\", \"Gabriela\"],\n",
        "    \"Produto\": [\"Notebook\", \"Smartphone\", \"Notebook\", \"Tablet\", \"Notebook\", \"Smartphone\", np.nan, \"Tablet\"],\n",
        "    \"Valor\": [3000, 2000, 3000, 1500, 3000, 2000, 1500, 1500],\n",
        "    \"Data\": [\"2023-01-15\", \"2023-01-16\", np.nan, \"2023-02-10\", \"2023-02-10\", \"2023-01-16\", \"2023-02-15\", \"2023-02-16\"],\n",
        "}\n",
        "df = pd.DataFrame(dados)\n",
        "```\n",
        "Então:\n",
        "\n",
        "1. Qual é o número de valores não nulos em cada coluna do DataFrame?\n",
        "  \n",
        "  Dica: Utilize o método `count()`.\n",
        "\n",
        "1. Qual produto foi vendido mais vezes?\n",
        "  \n",
        "  Dica: Utilize o método `value_counts()` para listar a quantidade de prudutos vendidos e `.idxmax()` para mostrar qual o produto mais vendito.\n",
        "  \n",
        "1. Passe a primeira letra do nome de cada cliente para maiúscula. Dica: Utilize o método `str.title()`.\n",
        "\n",
        "1. Inclua o seguinte dados no final do `df`:\n",
        "```python\n",
        "df2 = pd.DataFrame({\n",
        "    \"Cliente\": [\"Jose\", \"Paula\"],\n",
        "    \"Produto\": [\"Tablet\", \"Notebook\"],\n",
        "    \"Valor\": [1500, 4000],\n",
        "    \"Data\": [\"2023-03-01\", \"2023-03-02\"],\n",
        "})\n",
        "```\n"
      ],
      "metadata": {
        "id": "e08pkKH-yeBJ"
      }
    },
    {
      "cell_type": "code",
      "source": [
        "dados = {\n",
        "    \"Cliente\": [\"Ana\", \"bruno\", \"Carlos\", \"Diana\", \"Eduarda\", np.nan, \"fábio\", \"Gabriela\"],\n",
        "    \"Produto\": [\"Notebook\", \"Smartphone\", \"Notebook\", \"Tablet\", \"Notebook\", \"Smartphone\", np.nan, \"Tablet\"],\n",
        "    \"Valor\": [3000, 2000, 3000, 1500, 3000, 2000, 1500, 1500],\n",
        "    \"Data\": [\"2023-01-15\", \"2023-01-16\", np.nan, \"2023-02-10\", \"2023-02-10\", \"2023-01-16\", \"2023-02-15\", \"2023-02-16\"],\n",
        "}\n",
        "ex2 = pd.DataFrame(dados)\n",
        "\n",
        "nulos = ex2.count()\n",
        "print(nulos)\n",
        "\n",
        "mais_vendido = ex2['Produto'].value_counts().idxmax()\n",
        "print(f\"\\n{mais_vendido}\")\n",
        "\n",
        "ex2['Cliente'] = ex2['Cliente'].str.title()\n",
        "print(f\"\\n{ex2}\")\n",
        "\n",
        "df2 = pd.DataFrame({\n",
        " \"Cliente\": [\"Jose\", \"Paula\"],\n",
        " \"Produto\": [\"Tablet\", \"Notebook\"],\n",
        " \"Valor\": [1500, 4000],\n",
        " \"Data\": [\"2023-03-01\", \"2023-03-02\"],\n",
        "})\n",
        "\n",
        "ex2 = pd.concat([ex2, df2], ignore_index=True)\n",
        "print(f\"\\n{ex2}\")"
      ],
      "metadata": {
        "id": "KRpA7ZgV9stt",
        "outputId": "fce45c52-cf14-4e56-c940-a9e092eb6fce",
        "colab": {
          "base_uri": "https://localhost:8080/"
        }
      },
      "execution_count": 25,
      "outputs": [
        {
          "output_type": "stream",
          "name": "stdout",
          "text": [
            "Cliente    7\n",
            "Produto    7\n",
            "Valor      8\n",
            "Data       7\n",
            "dtype: int64\n",
            "\n",
            "Notebook\n",
            "\n",
            "    Cliente     Produto  Valor        Data\n",
            "0       Ana    Notebook   3000  2023-01-15\n",
            "1     Bruno  Smartphone   2000  2023-01-16\n",
            "2    Carlos    Notebook   3000         NaN\n",
            "3     Diana      Tablet   1500  2023-02-10\n",
            "4   Eduarda    Notebook   3000  2023-02-10\n",
            "5       NaN  Smartphone   2000  2023-01-16\n",
            "6     Fábio         NaN   1500  2023-02-15\n",
            "7  Gabriela      Tablet   1500  2023-02-16\n",
            "\n",
            "    Cliente     Produto  Valor        Data\n",
            "0       Ana    Notebook   3000  2023-01-15\n",
            "1     Bruno  Smartphone   2000  2023-01-16\n",
            "2    Carlos    Notebook   3000         NaN\n",
            "3     Diana      Tablet   1500  2023-02-10\n",
            "4   Eduarda    Notebook   3000  2023-02-10\n",
            "5       NaN  Smartphone   2000  2023-01-16\n",
            "6     Fábio         NaN   1500  2023-02-15\n",
            "7  Gabriela      Tablet   1500  2023-02-16\n",
            "8      Jose      Tablet   1500  2023-03-01\n",
            "9     Paula    Notebook   4000  2023-03-02\n"
          ]
        }
      ]
    },
    {
      "cell_type": "markdown",
      "source": [
        "## Junção de *dataframe*s"
      ],
      "metadata": {
        "id": "_79PYzDyTMC4"
      }
    },
    {
      "cell_type": "markdown",
      "source": [
        "A função `merge()` habilita junções no estilo SQL entre colunas."
      ],
      "metadata": {
        "id": "bJu5nOW6LxX8"
      }
    },
    {
      "cell_type": "code",
      "source": [
        "import pandas as pd\n",
        "\n",
        "# DataFrame à esquerda\n",
        "esquerda = pd.DataFrame({\"produto\": [\"maçã\", \"pera\", \"banana\", \"uva\"], \"quantidade\": [3, 5, 4, 2]})\n",
        "\n",
        "# DataFrame à direita\n",
        "direita = pd.DataFrame({\"produto\": [\"pera\", \"banana\", \"maçã\"], \"preço\": [4.50, 2.34, 3.25]})\n",
        "\n",
        "print(\"esquerda:\\n\", esquerda)\n",
        "print(\"\\ndireita:\\n\", direita)\n",
        "\n",
        "# 1) Mesclando os DataFrames\n",
        "## O produto \"uva\" está presente em esquerda, mas não em direita.\n",
        "## Por padrão esse produto é excluido por não ter correspondencia\n",
        "resultado = pd.merge(esquerda, direita, on=\"produto\")\n",
        "print(\"\\nResultado da junção 1:\\n\", resultado)\n",
        "\n",
        "# 2) Mesclando os DataFrames (how='left')\n",
        "## Neste caso, o valor na coluna \"preço\" para essa linha é NaN\n",
        "resultado = pd.merge(esquerda, direita, on=\"produto\", how='left')\n",
        "print(\"\\nResultado da junção 2:\\n\", resultado)"
      ],
      "metadata": {
        "id": "HIE1O2LNL-yc",
        "outputId": "33c637b2-ec47-4379-b799-d4a960743aea",
        "colab": {
          "base_uri": "https://localhost:8080/"
        }
      },
      "execution_count": 26,
      "outputs": [
        {
          "output_type": "stream",
          "name": "stdout",
          "text": [
            "esquerda:\n",
            "   produto  quantidade\n",
            "0    maçã           3\n",
            "1    pera           5\n",
            "2  banana           4\n",
            "3     uva           2\n",
            "\n",
            "direita:\n",
            "   produto  preço\n",
            "0    pera   4.50\n",
            "1  banana   2.34\n",
            "2    maçã   3.25\n",
            "\n",
            "Resultado da junção 1:\n",
            "   produto  quantidade  preço\n",
            "0    maçã           3   3.25\n",
            "1    pera           5   4.50\n",
            "2  banana           4   2.34\n",
            "\n",
            "Resultado da junção 2:\n",
            "   produto  quantidade  preço\n",
            "0    maçã           3   3.25\n",
            "1    pera           5   4.50\n",
            "2  banana           4   2.34\n",
            "3     uva           2    NaN\n"
          ]
        }
      ]
    },
    {
      "cell_type": "markdown",
      "source": [
        "Outro exemplo, agora com 2 chaves."
      ],
      "metadata": {
        "id": "dPRs8hxR4Ml_"
      }
    },
    {
      "cell_type": "code",
      "source": [
        "import pandas as pd\n",
        "\n",
        "# DataFrame à esquerda com mais um atributo (fornecedor)\n",
        "esquerda = pd.DataFrame({\n",
        "    \"produto\": [\"maçã\", \"pera\", \"banana\", \"maçã\", \"banana\"],\n",
        "    \"cor\": [\"vermelha\", \"verde\", \"amarela\", \"verde\", \"amarela\"],\n",
        "    \"quantidade\": [3, 5, 4, 6, 7],\n",
        "    \"fornecedor\": [\"Fornecedor A\", \"Fornecedor B\", \"Fornecedor C\", \"Fornecedor C\", \"Fornecedor A\"]\n",
        "})\n",
        "\n",
        "# DataFrame à direita\n",
        "direita = pd.DataFrame({\n",
        "    \"produto\": [\"maçã\", \"pera\", \"banana\"],\n",
        "    \"cor\": [\"vermelha\", \"verde\", \"amarela\"],\n",
        "    \"preço\": [3.25, 4.50, 2.34]\n",
        "})\n",
        "\n",
        "print(\"esquerda:\\n\", esquerda)\n",
        "print(\"\\ndireita:\\n\", direita)\n",
        "\n",
        "# Mesclando os DataFrames com mais de uma chave (produto, cor)\n",
        "resultado = pd.merge(esquerda, direita, on=[\"produto\", \"cor\"], how=\"left\")\n",
        "print(\"\\nResultado da junção com múltiplas chaves (produto, cor) e fornecedor:\\n\", resultado)\n"
      ],
      "metadata": {
        "id": "kkCohIV73R3s",
        "outputId": "a29cf7bb-f6d4-4504-af20-1099f5d9041e",
        "colab": {
          "base_uri": "https://localhost:8080/"
        }
      },
      "execution_count": 27,
      "outputs": [
        {
          "output_type": "stream",
          "name": "stdout",
          "text": [
            "esquerda:\n",
            "   produto       cor  quantidade    fornecedor\n",
            "0    maçã  vermelha           3  Fornecedor A\n",
            "1    pera     verde           5  Fornecedor B\n",
            "2  banana   amarela           4  Fornecedor C\n",
            "3    maçã     verde           6  Fornecedor C\n",
            "4  banana   amarela           7  Fornecedor A\n",
            "\n",
            "direita:\n",
            "   produto       cor  preço\n",
            "0    maçã  vermelha   3.25\n",
            "1    pera     verde   4.50\n",
            "2  banana   amarela   2.34\n",
            "\n",
            "Resultado da junção com múltiplas chaves (produto, cor) e fornecedor:\n",
            "   produto       cor  quantidade    fornecedor  preço\n",
            "0    maçã  vermelha           3  Fornecedor A   3.25\n",
            "1    pera     verde           5  Fornecedor B   4.50\n",
            "2  banana   amarela           4  Fornecedor C   2.34\n",
            "3    maçã     verde           6  Fornecedor C    NaN\n",
            "4  banana   amarela           7  Fornecedor A   2.34\n"
          ]
        }
      ]
    },
    {
      "cell_type": "markdown",
      "source": [
        "## Agrupamento"
      ],
      "metadata": {
        "id": "0qIW3VUjTnUf"
      }
    },
    {
      "cell_type": "markdown",
      "source": [
        "Por “agrupamento” se refere a um processo que envolve um ou mais dos seguintes passos:\n",
        "\n",
        "- **particionar** os dados em grupos basedos em algum critério;\n",
        "\n",
        "- **aplicar** uma função em cada grupo independentemente;\n",
        "\n",
        "- **combinar** os resultados em uma estrutura de dados."
      ],
      "metadata": {
        "id": "7y5nOBzuMEFH"
      }
    },
    {
      "cell_type": "code",
      "source": [
        "import pandas as pd\n",
        "import numpy as np\n",
        "\n",
        "# Criando o DataFrame simulando vendas de banana e maça por regiões\n",
        "df = pd.DataFrame(\n",
        "    {\n",
        "        \"Produto\": [\"Maçã\", \"Banana\", \"Maçã\", \"Banana\", \"Maçã\", \"Banana\", \"Maçã\", \"Maçã\"],\n",
        "        \"Região\": [\"Norte\", \"Norte\", \"Sul\", \"Sul\", \"Leste\", \"Leste\", \"Norte\", \"Leste\"],\n",
        "        \"Vendas\": np.abs(np.random.randn(8)),  # Valores numéricos aleatórios representando as vendas\n",
        "        \"Lucro\": np.random.randn(8),   # Valores numéricos aleatórios representando o lucro\n",
        "    }\n",
        ")\n",
        "\n",
        "print(df)"
      ],
      "metadata": {
        "id": "cruBRDEnOGc_",
        "outputId": "aa36dc1f-b6bc-427b-f4b5-abf51965972f",
        "colab": {
          "base_uri": "https://localhost:8080/"
        }
      },
      "execution_count": 28,
      "outputs": [
        {
          "output_type": "stream",
          "name": "stdout",
          "text": [
            "  Produto Região    Vendas     Lucro\n",
            "0    Maçã  Norte  0.910971 -0.545467\n",
            "1  Banana  Norte  0.183158  1.053056\n",
            "2    Maçã    Sul  0.377249  0.095070\n",
            "3  Banana    Sul  0.412831  0.375782\n",
            "4    Maçã  Leste  0.414432  0.708129\n",
            "5  Banana  Leste  0.923627  0.582965\n",
            "6    Maçã  Norte  0.456816  0.440529\n",
            "7    Maçã  Leste  1.292043  0.348246\n"
          ]
        }
      ]
    },
    {
      "cell_type": "markdown",
      "source": [
        "Exemplo, agrupando por uma coluna, selecionando outras colunas e aplicando a função `sum()` aos dados resultantes:"
      ],
      "metadata": {
        "id": "kH-y4IfQOX0j"
      }
    },
    {
      "cell_type": "code",
      "source": [
        "print(\"\\nAgrupamento por 'Produto' e soma de Vendas e Lucro:\")\n",
        "print(df.groupby(\"Produto\")[[\"Vendas\", \"Lucro\"]].sum())"
      ],
      "metadata": {
        "id": "v7eQ_4ZaOXLM",
        "outputId": "73c6b70a-a657-472b-ec3c-ec87f4ad8d9f",
        "colab": {
          "base_uri": "https://localhost:8080/"
        }
      },
      "execution_count": 29,
      "outputs": [
        {
          "output_type": "stream",
          "name": "stdout",
          "text": [
            "\n",
            "Agrupamento por 'Produto' e soma de Vendas e Lucro:\n",
            "           Vendas     Lucro\n",
            "Produto                    \n",
            "Banana   1.519615  2.011804\n",
            "Maçã     3.451512  1.046508\n"
          ]
        }
      ]
    },
    {
      "cell_type": "markdown",
      "source": [
        "Agrupar por múltiplas colunas forma um `MultiIndex`."
      ],
      "metadata": {
        "id": "0T6d1GUpOzwE"
      }
    },
    {
      "cell_type": "code",
      "source": [
        "# Agrupando por Produto e Região e somando as colunas 'Vendas' e 'Lucro'\n",
        "print(\"\\nAgrupamento por 'Produto' e 'Região' e soma de Vendas e Lucro:\")\n",
        "print(df.groupby([\"Produto\", \"Região\"]).sum())"
      ],
      "metadata": {
        "id": "tdjPZPBgPV6y",
        "outputId": "939da9f7-9890-4922-b74f-2dac4faef8b3",
        "colab": {
          "base_uri": "https://localhost:8080/"
        }
      },
      "execution_count": 30,
      "outputs": [
        {
          "output_type": "stream",
          "name": "stdout",
          "text": [
            "\n",
            "Agrupamento por 'Produto' e 'Região' e soma de Vendas e Lucro:\n",
            "                  Vendas     Lucro\n",
            "Produto Região                    \n",
            "Banana  Leste   0.923627  0.582965\n",
            "        Norte   0.183158  1.053056\n",
            "        Sul     0.412831  0.375782\n",
            "Maçã    Leste   1.706476  1.056375\n",
            "        Norte   1.367787 -0.104938\n",
            "        Sul     0.377249  0.095070\n"
          ]
        }
      ]
    },
    {
      "cell_type": "markdown",
      "source": [
        "## Exercício 3\n",
        "\n",
        "1. Para o código abaixo use a função `merge()` para combinar os dois DataFrames com base na coluna `Produto`.\n",
        "  * E depois `how=\"outer\"` (união de todos os dados).  \n",
        "  * E depois `how=\"inner\"` (interseção entre os DataFrames).\n",
        "\n",
        "2. Para a ultima junção, faça um agrupamento pela coluna `Produto` e então selecione as colunas `Quantidade` e `Preço` e some elas.\n",
        "\n",
        "```python\n",
        "import pandas as pd\n",
        "\n",
        "# DataFrame de produtos vendidos\n",
        "vendas = pd.DataFrame({\n",
        "    \"Cliente\": [\"Ana\", \"Bruno\", \"Carlos\", \"Diana\", \"Eduarda\", \"Fábio\", \"Gabriela\"],\n",
        "    \"Produto\": [\"Notebook\", \"Smartphone\", \"Notebook\", \"Tablet\", \"Notebook\", \"Mouse\", \"Smartphone\"],\n",
        "    \"Data\": [\"2023-01-15\", \"2023-01-16\", \"2023-01-16\", \"2023-02-10\", \"2023-02-10\", \"2023-02-15\", \"2023-02-16\"],\n",
        "    \"Quantidade\": [1, 2, 1, 1, 3, 2, 1],\n",
        "})\n",
        "\n",
        "# DataFrame com os preços dos produtos\n",
        "precos = pd.DataFrame({\n",
        "    \"Produto\": [\"Notebook\", \"Smartphone\", \"Tablet\"],\n",
        "    \"Preço\": [3000, 2000, 1500],\n",
        "})\n",
        "\n",
        "print(\"DataFrame de vendas:\")\n",
        "print(vendas)\n",
        "\n",
        "print(\"\\nDataFrame de preços:\")\n",
        "print(precos)\n",
        "```"
      ],
      "metadata": {
        "id": "HfK_eJmL23wm"
      }
    },
    {
      "cell_type": "code",
      "source": [
        "import pandas as pd\n",
        "\n",
        "# DataFrame de produtos vendidos\n",
        "vendas = pd.DataFrame({\n",
        "    \"Cliente\": [\"Ana\", \"Bruno\", \"Carlos\", \"Diana\", \"Eduarda\", \"Fábio\", \"Gabriela\"],\n",
        "    \"Produto\": [\"Notebook\", \"Smartphone\", \"Notebook\", \"Tablet\", \"Notebook\", \"Mouse\", \"Smartphone\"],\n",
        "    \"Data\": [\"2023-01-15\", \"2023-01-16\", \"2023-01-16\", \"2023-02-10\", \"2023-02-10\", \"2023-02-15\", \"2023-02-16\"],\n",
        "    \"Quantidade\": [1, 2, 1, 1, 3, 2, 1],\n",
        "})\n",
        "\n",
        "# DataFrame com os preços dos produtos\n",
        "precos = pd.DataFrame({\n",
        "    \"Produto\": [\"Notebook\", \"Smartphone\", \"Tablet\"],\n",
        "    \"Preço\": [3000, 2000, 1500],\n",
        "})\n",
        "\n",
        "print(\"DataFrame de vendas:\")\n",
        "print(vendas)\n",
        "\n",
        "print(\"\\nDataFrame de preços:\")\n",
        "print(precos)\n",
        "\n",
        "uniao = pd.merge(vendas, precos, on=\"Produto\", how=\"outer\")\n",
        "print(f\"\\n{uniao}\")\n",
        "\n",
        "intersecao = pd.merge(vendas, precos, on=\"Produto\", how=\"inner\")\n",
        "print(f\"\\n{intersecao}\")\n",
        "\n",
        "quant_preco = intersecao.groupby(\"Produto\")[[\"Quantidade\", \"Preço\"]].sum()\n",
        "print(f\"\\n{quant_preco}\")"
      ],
      "metadata": {
        "id": "7aBpaWPZ-cDZ",
        "outputId": "38b48312-67d0-4ed9-e031-69d80b325668",
        "colab": {
          "base_uri": "https://localhost:8080/"
        }
      },
      "execution_count": 32,
      "outputs": [
        {
          "output_type": "stream",
          "name": "stdout",
          "text": [
            "DataFrame de vendas:\n",
            "    Cliente     Produto        Data  Quantidade\n",
            "0       Ana    Notebook  2023-01-15           1\n",
            "1     Bruno  Smartphone  2023-01-16           2\n",
            "2    Carlos    Notebook  2023-01-16           1\n",
            "3     Diana      Tablet  2023-02-10           1\n",
            "4   Eduarda    Notebook  2023-02-10           3\n",
            "5     Fábio       Mouse  2023-02-15           2\n",
            "6  Gabriela  Smartphone  2023-02-16           1\n",
            "\n",
            "DataFrame de preços:\n",
            "      Produto  Preço\n",
            "0    Notebook   3000\n",
            "1  Smartphone   2000\n",
            "2      Tablet   1500\n",
            "\n",
            "    Cliente     Produto        Data  Quantidade   Preço\n",
            "0     Fábio       Mouse  2023-02-15           2     NaN\n",
            "1       Ana    Notebook  2023-01-15           1  3000.0\n",
            "2    Carlos    Notebook  2023-01-16           1  3000.0\n",
            "3   Eduarda    Notebook  2023-02-10           3  3000.0\n",
            "4     Bruno  Smartphone  2023-01-16           2  2000.0\n",
            "5  Gabriela  Smartphone  2023-02-16           1  2000.0\n",
            "6     Diana      Tablet  2023-02-10           1  1500.0\n",
            "\n",
            "    Cliente     Produto        Data  Quantidade  Preço\n",
            "0       Ana    Notebook  2023-01-15           1   3000\n",
            "1     Bruno  Smartphone  2023-01-16           2   2000\n",
            "2    Carlos    Notebook  2023-01-16           1   3000\n",
            "3     Diana      Tablet  2023-02-10           1   1500\n",
            "4   Eduarda    Notebook  2023-02-10           3   3000\n",
            "5  Gabriela  Smartphone  2023-02-16           1   2000\n",
            "\n",
            "            Quantidade  Preço\n",
            "Produto                      \n",
            "Notebook             5   9000\n",
            "Smartphone           3   4000\n",
            "Tablet               1   1500\n"
          ]
        }
      ]
    },
    {
      "cell_type": "markdown",
      "source": [
        "## Reorganização"
      ],
      "metadata": {
        "id": "i1b4S23cTwK6"
      }
    },
    {
      "cell_type": "markdown",
      "source": [
        "Para exemplos, vamos primeiramente criar um DataFrame para análise de dados relacionados a vendas e custos.\n",
        "\n",
        "Este DataFrame será criado com um índice hierárquico de duas categorias:\n",
        "* Categoria (Fruta, Legume, etc.)\n",
        "* Métrica (Venda, Custo)."
      ],
      "metadata": {
        "id": "B5yHj1WKIClQ"
      }
    },
    {
      "cell_type": "code",
      "source": [
        "import pandas as pd\n",
        "import numpy as np\n",
        "\n",
        "# MultiIndex com dois níveis: Categoria e Métrica\n",
        "arrays = [\n",
        "    [\"Fruta\", \"Fruta\", \"Legume\", \"Legume\", \"Bebida\", \"Bebida\", \"Grão\", \"Grão\"],\n",
        "    [\"Venda\", \"Custo\", \"Venda\", \"Custo\", \"Venda\", \"Custo\", \"Venda\", \"Custo\"],\n",
        "]\n",
        "\n",
        "index = pd.MultiIndex.from_arrays(arrays, names=[\"Categoria\", \"Métrica\"])\n",
        "\n",
        "# Criando um DataFrame com valores aleatórios para Vendas e Custos\n",
        "df = pd.DataFrame(abs(np.random.randn(8, 3)), index=index, columns=[\"Janeiro\", \"Fevereiro\", \"Março\"])\n",
        "print(\"DataFrame Original:\\n\")\n",
        "print(df)"
      ],
      "metadata": {
        "id": "qh11-mX2GbQ0",
        "outputId": "a4af2e44-3a1c-4ebc-a512-db0b2827a572",
        "colab": {
          "base_uri": "https://localhost:8080/"
        }
      },
      "execution_count": 33,
      "outputs": [
        {
          "output_type": "stream",
          "name": "stdout",
          "text": [
            "DataFrame Original:\n",
            "\n",
            "                    Janeiro  Fevereiro     Março\n",
            "Categoria Métrica                               \n",
            "Fruta     Venda    2.313884   0.331629  1.848829\n",
            "          Custo    1.030051   2.816397  0.161157\n",
            "Legume    Venda    0.289541   1.541124  0.352285\n",
            "          Custo    0.265815   1.123567  1.477800\n",
            "Bebida    Venda    1.824377   1.794947  0.449246\n",
            "          Custo    0.724813   0.746716  1.709293\n",
            "Grão      Venda    0.867377   0.763161  1.279894\n",
            "          Custo    0.469518   0.350046  0.437504\n"
          ]
        }
      ]
    },
    {
      "cell_type": "markdown",
      "source": [
        "### Empilhamento"
      ],
      "metadata": {
        "id": "X0S2fRWEPWpw"
      }
    },
    {
      "cell_type": "markdown",
      "source": [
        "* A função `stack()` modifica a distribuição das células para criar um formato vertical.\n",
        "\n",
        "* A função `unstack()` faz o inverso do `stack()`, retorna o formato original.\n",
        "\n",
        "  Como temos dois níveis de indices, também podemos utilizar:\n",
        "  * `unstack(0)` para reorganiza pelo primeiro indice (Categoria) como colunas;\n",
        "  * `unstack(1)` para reorganiza pelo segundo indice (Métrica) como colunas.  "
      ],
      "metadata": {
        "id": "krp3li9MJR5y"
      }
    },
    {
      "cell_type": "code",
      "source": [
        "# Empilhando as colunas para transformar em um formato mais vertical\n",
        "stacked = df.stack()\n",
        "print(\"\\nDataFrame Empilhado (com stack):\\n\")\n",
        "print(stacked)\n",
        "\n",
        "# Desempilhando para reorganizar os dados de volta ao formato tabular\n",
        "unstacked = stacked.unstack()\n",
        "print(\"\\n\\nDataFrame Desempilhado (com unstack):\\n\")\n",
        "print(unstacked)"
      ],
      "metadata": {
        "id": "9cEUxrTFGki6",
        "outputId": "a90f7847-23dd-4a15-9762-e429439a9156",
        "colab": {
          "base_uri": "https://localhost:8080/"
        }
      },
      "execution_count": 34,
      "outputs": [
        {
          "output_type": "stream",
          "name": "stdout",
          "text": [
            "\n",
            "DataFrame Empilhado (com stack):\n",
            "\n",
            "Categoria  Métrica           \n",
            "Fruta      Venda    Janeiro      2.313884\n",
            "                    Fevereiro    0.331629\n",
            "                    Março        1.848829\n",
            "           Custo    Janeiro      1.030051\n",
            "                    Fevereiro    2.816397\n",
            "                    Março        0.161157\n",
            "Legume     Venda    Janeiro      0.289541\n",
            "                    Fevereiro    1.541124\n",
            "                    Março        0.352285\n",
            "           Custo    Janeiro      0.265815\n",
            "                    Fevereiro    1.123567\n",
            "                    Março        1.477800\n",
            "Bebida     Venda    Janeiro      1.824377\n",
            "                    Fevereiro    1.794947\n",
            "                    Março        0.449246\n",
            "           Custo    Janeiro      0.724813\n",
            "                    Fevereiro    0.746716\n",
            "                    Março        1.709293\n",
            "Grão       Venda    Janeiro      0.867377\n",
            "                    Fevereiro    0.763161\n",
            "                    Março        1.279894\n",
            "           Custo    Janeiro      0.469518\n",
            "                    Fevereiro    0.350046\n",
            "                    Março        0.437504\n",
            "dtype: float64\n",
            "\n",
            "\n",
            "DataFrame Desempilhado (com unstack):\n",
            "\n",
            "                    Janeiro  Fevereiro     Março\n",
            "Categoria Métrica                               \n",
            "Bebida    Custo    0.724813   0.746716  1.709293\n",
            "          Venda    1.824377   1.794947  0.449246\n",
            "Fruta     Custo    1.030051   2.816397  0.161157\n",
            "          Venda    2.313884   0.331629  1.848829\n",
            "Grão      Custo    0.469518   0.350046  0.437504\n",
            "          Venda    0.867377   0.763161  1.279894\n",
            "Legume    Custo    0.265815   1.123567  1.477800\n",
            "          Venda    0.289541   1.541124  0.352285\n"
          ]
        }
      ]
    },
    {
      "cell_type": "code",
      "source": [
        "# Desempilhando com foco no nível 0 (Categoria)\n",
        "unstacked_level0 = stacked.unstack(0)\n",
        "print(\"\\n\\nDataFrame Desempilhado por 'Categoria' (nível 0):\\n\")\n",
        "print(unstacked_level0)\n",
        "\n",
        "# Desempilhando com foco no nível 1 (Métrica)\n",
        "unstacked_level1 = stacked.unstack(1)\n",
        "print(\"\\n\\nDataFrame Desempilhado por 'Métrica' (nível 1):\\n\")\n",
        "print(unstacked_level1)\n"
      ],
      "metadata": {
        "id": "3uViHo0S_Ul_",
        "outputId": "f96113cb-256e-4b63-a6a8-6ce4948b6ff2",
        "colab": {
          "base_uri": "https://localhost:8080/"
        }
      },
      "execution_count": 35,
      "outputs": [
        {
          "output_type": "stream",
          "name": "stdout",
          "text": [
            "\n",
            "\n",
            "DataFrame Desempilhado por 'Categoria' (nível 0):\n",
            "\n",
            "Categoria            Bebida     Fruta      Grão    Legume\n",
            "Métrica                                                  \n",
            "Custo   Janeiro    0.724813  1.030051  0.469518  0.265815\n",
            "        Fevereiro  0.746716  2.816397  0.350046  1.123567\n",
            "        Março      1.709293  0.161157  0.437504  1.477800\n",
            "Venda   Janeiro    1.824377  2.313884  0.867377  0.289541\n",
            "        Fevereiro  1.794947  0.331629  0.763161  1.541124\n",
            "        Março      0.449246  1.848829  1.279894  0.352285\n",
            "\n",
            "\n",
            "DataFrame Desempilhado por 'Métrica' (nível 1):\n",
            "\n",
            "Métrica                 Custo     Venda\n",
            "Categoria                              \n",
            "Bebida    Janeiro    0.724813  1.824377\n",
            "          Fevereiro  0.746716  1.794947\n",
            "          Março      1.709293  0.449246\n",
            "Fruta     Janeiro    1.030051  2.313884\n",
            "          Fevereiro  2.816397  0.331629\n",
            "          Março      0.161157  1.848829\n",
            "Grão      Janeiro    0.469518  0.867377\n",
            "          Fevereiro  0.350046  0.763161\n",
            "          Março      0.437504  1.279894\n",
            "Legume    Janeiro    0.265815  0.289541\n",
            "          Fevereiro  1.123567  1.541124\n",
            "          Março      1.477800  0.352285\n"
          ]
        }
      ]
    },
    {
      "cell_type": "markdown",
      "source": [
        "### Pivot tables\n",
        "\n",
        "A função `pivot_table` permite:\n",
        "* resumir as informações contidas em um DataFrame;\n",
        "* personalizar a forma como os dados são organizados;\n",
        "* utilizar agregações complexas e funções customizadas.\n",
        "\n",
        "**Sintaxe:**\n",
        "\n",
        "```python\n",
        "pd.pivot_table(data, values=None, index=None, columns=None, aggfunc=\"mean\",\n",
        " fill_value=None, margins=False, margins_name=\"All\", dropna=True, observed=False, sort=True)\n",
        "```\n",
        "\n",
        "Principais argumentos:\n",
        "\n",
        "* `data`: O DataFrame a partir do qual a tabela dinâmica será criada.\n",
        "* `values`: A(s) coluna(s) cujos valores você deseja agregar.\n",
        "* `index`: A(s) coluna(s) que formarão os índices da tabela.\n",
        "* `columns`: A(s) coluna(s) que formarão as colunas da tabela.\n",
        "* `aggfunc`: A função de agregação a ser usada. O padrão é \"mean\", mas você pode usar outras como \"sum\", \"count\", \"max\", \"min\", ou funções personalizadas. Pode ser uma lista de funções.\n",
        "* `fill_value`: Valor para preencher células vazias ou NaN.\n",
        "* `margins`: Inclui nas margens o total agregado.\n",
        "* `observed`: Se `True`, então as variáveis categóricas ficam restritas apenas aos níveis observados.\n",
        "\n",
        "Veja os exemplos."
      ],
      "metadata": {
        "id": "qntcERoRqh3B"
      }
    },
    {
      "cell_type": "code",
      "source": [
        "import pandas as pd\n",
        "import numpy as np\n",
        "\n",
        "# Criando o DataFrame\n",
        "dados = {\n",
        "    \"Categoria\": [\"Eletrônicos\", \"Eletrônicos\", \"Eletrodomésticos\", \"Eletrodomésticos\", \"Móveis\", \"Móveis\"],\n",
        "    \"Produto\": [\"Notebook\", \"Smartphone\", \"Geladeira\", \"Fogão\", \"Sofá\", \"Cama\"],\n",
        "    \"Vendas\": [5000, 3000, 4000, 2500, 2000, 1500],\n",
        "    \"Ano\": [2023, 2023, 2023, 2023, 2024, 2024]\n",
        "}\n",
        "\n",
        "df = pd.DataFrame(dados)\n",
        "print(df)"
      ],
      "metadata": {
        "id": "6-LgmCA7O5CB",
        "outputId": "a057622d-6f3d-420c-f477-65e96c7eced1",
        "colab": {
          "base_uri": "https://localhost:8080/"
        }
      },
      "execution_count": 36,
      "outputs": [
        {
          "output_type": "stream",
          "name": "stdout",
          "text": [
            "          Categoria     Produto  Vendas   Ano\n",
            "0       Eletrônicos    Notebook    5000  2023\n",
            "1       Eletrônicos  Smartphone    3000  2023\n",
            "2  Eletrodomésticos   Geladeira    4000  2023\n",
            "3  Eletrodomésticos       Fogão    2500  2023\n",
            "4            Móveis        Sofá    2000  2024\n",
            "5            Móveis        Cama    1500  2024\n"
          ]
        }
      ]
    },
    {
      "cell_type": "markdown",
      "source": [
        "**1. Agregando por uma única coluna:**\n",
        "\n",
        "Vamos organizar as vendas por categoria usando pivot_table."
      ],
      "metadata": {
        "id": "LOr2lQvQkILn"
      }
    },
    {
      "cell_type": "code",
      "source": [
        "# Vendas totais por Categoria\n",
        "tabela = pd.pivot_table(df, values=\"Vendas\", index=\"Categoria\", aggfunc=\"sum\")\n",
        "print(tabela)\n"
      ],
      "metadata": {
        "id": "mHbxjEGDkEHU",
        "outputId": "ee4bbbae-e374-4f42-bb68-8578f43acfc3",
        "colab": {
          "base_uri": "https://localhost:8080/"
        }
      },
      "execution_count": 37,
      "outputs": [
        {
          "output_type": "stream",
          "name": "stdout",
          "text": [
            "                  Vendas\n",
            "Categoria               \n",
            "Eletrodomésticos    6500\n",
            "Eletrônicos         8000\n",
            "Móveis              3500\n"
          ]
        }
      ]
    },
    {
      "cell_type": "markdown",
      "source": [
        "**2. Selecionando colunas:**"
      ],
      "metadata": {
        "id": "EZY2BJWQT-Y7"
      }
    },
    {
      "cell_type": "code",
      "source": [
        "# Vendas totais por Categoria e Ano\n",
        "tabela = pd.pivot_table(df, values=\"Vendas\", index=\"Categoria\",\n",
        "                        columns=\"Ano\", aggfunc=\"sum\", fill_value=0)\n",
        "print(tabela)\n",
        "\n",
        "print(\"\\n\")\n",
        "\n",
        "# Vendas totais por Categoria e Ano\n",
        "tabela = pd.pivot_table(df, values=\"Vendas\", index=\"Categoria\",\n",
        "                        columns=[\"Ano\",\"Produto\"], aggfunc=\"sum\", fill_value=0)\n",
        "print(tabela)\n"
      ],
      "metadata": {
        "id": "o629Jcv0khzK",
        "outputId": "09d76d5d-30c4-478f-e314-ff30d08fd28d",
        "colab": {
          "base_uri": "https://localhost:8080/"
        }
      },
      "execution_count": 38,
      "outputs": [
        {
          "output_type": "stream",
          "name": "stdout",
          "text": [
            "Ano               2023  2024\n",
            "Categoria                   \n",
            "Eletrodomésticos  6500     0\n",
            "Eletrônicos       8000     0\n",
            "Móveis               0  3500\n",
            "\n",
            "\n",
            "Ano               2023                                2024      \n",
            "Produto          Fogão Geladeira Notebook Smartphone  Cama  Sofá\n",
            "Categoria                                                       \n",
            "Eletrodomésticos  2500      4000        0          0     0     0\n",
            "Eletrônicos          0         0     5000       3000     0     0\n",
            "Móveis               0         0        0          0  1500  2000\n"
          ]
        }
      ]
    },
    {
      "cell_type": "markdown",
      "source": [
        "**3. Adicionando margens (Totais):**"
      ],
      "metadata": {
        "id": "6gzyjdfglM3w"
      }
    },
    {
      "cell_type": "code",
      "source": [
        "# Incluindo uma linha/coluna de total\n",
        "tabela = pd.pivot_table(df, values=\"Vendas\", index=\"Categoria\", columns=\"Ano\",\n",
        "        aggfunc=\"sum\", fill_value=0, margins=True, margins_name=\"Total Geral\")\n",
        "print(tabela)\n"
      ],
      "metadata": {
        "id": "kY_U7Bz2lRfT",
        "outputId": "885e4976-8466-42f9-91a8-b45664f65c71",
        "colab": {
          "base_uri": "https://localhost:8080/"
        }
      },
      "execution_count": 39,
      "outputs": [
        {
          "output_type": "stream",
          "name": "stdout",
          "text": [
            "Ano                2023  2024  Total Geral\n",
            "Categoria                                 \n",
            "Eletrodomésticos   6500     0         6500\n",
            "Eletrônicos        8000     0         8000\n",
            "Móveis                0  3500         3500\n",
            "Total Geral       14500  3500        18000\n"
          ]
        }
      ]
    },
    {
      "cell_type": "markdown",
      "source": [
        "**4. Pivot Table com múltiplos índices e colunas:**"
      ],
      "metadata": {
        "id": "5Znxl3eall8z"
      }
    },
    {
      "cell_type": "code",
      "source": [
        "# Pivot Table com múltiplos índices e colunas\n",
        "tabela = pd.pivot_table(df, values=\"Vendas\", index=[\"Categoria\", \"Produto\"],\n",
        "                        columns=\"Ano\", aggfunc=\"sum\", fill_value=0)\n",
        "print(tabela)\n"
      ],
      "metadata": {
        "id": "F7NET20ulpnM",
        "outputId": "433317a1-1fba-48b2-af08-d21cc94d41b3",
        "colab": {
          "base_uri": "https://localhost:8080/"
        }
      },
      "execution_count": 40,
      "outputs": [
        {
          "output_type": "stream",
          "name": "stdout",
          "text": [
            "Ano                          2023  2024\n",
            "Categoria        Produto               \n",
            "Eletrodomésticos Fogão       2500     0\n",
            "                 Geladeira   4000     0\n",
            "Eletrônicos      Notebook    5000     0\n",
            "                 Smartphone  3000     0\n",
            "Móveis           Cama           0  1500\n",
            "                 Sofá           0  2000\n"
          ]
        }
      ]
    },
    {
      "cell_type": "markdown",
      "source": [
        "### Exercício 4\n",
        "\n",
        "Considere o seguinte conjunto de dados:\n",
        "```python\n",
        "import pandas as pd\n",
        "import numpy as np\n",
        "\n",
        "# DataFrame para os exercícios\n",
        "dados = {\n",
        "    \"Produto\": [\"Notebook\", \"Notebook\", \"Smartphone\", \"Smartphone\", \"Tablet\", \"Tablet\"],\n",
        "    \"Região\": [\"Norte\", \"Sul\", \"Norte\", \"Sul\", \"Norte\", \"Sul\"],\n",
        "    \"Ano\": [2023, 2023, 2024, 2024, 2023, 2024],\n",
        "    \"Vendas\": [5000, 4500, 3000, 3500, 2000, 2500],\n",
        "    \"Lucro\": [1000, 900, 800, 850, 300, 400],\n",
        "}\n",
        "\n",
        "df = pd.DataFrame(dados)\n",
        "print(df)\n",
        "```\n",
        "\n",
        "Então:\n",
        "\n",
        "1. Aplique `stack()` no DataFrame original e observe como ele transforma as colunas em um índice.\n",
        "\n",
        "  Pergunta: Qual a principal diferença entre o DataFrame antes e depois de usar `stack()`?\n",
        "\n",
        "2. A partir do resultado de `stack()`, use `unstack()` para reorganizar os dados. Experimente utilizar os níveis de índice (0, 1 ou nomeados).\n",
        "\n",
        "3. Crie uma tabela dinâmica que mostre o lucro médio (Lucro) por \"Produto\" e \"Região\". Use `aggfunc=\"mean\"`.\n",
        "\n",
        "  Pergunta: Como a função de agregação afeta os dados?\n",
        "\n",
        "4. Adicione margens (totais) à tabela dinâmica do exercício anterior, usando o parâmetro `margins=True`.   "
      ],
      "metadata": {
        "id": "Y7RQk2JCndFi"
      }
    },
    {
      "cell_type": "code",
      "source": [
        "import pandas as pd\n",
        "import numpy as np\n",
        "\n",
        "# DataFrame para os exercícios\n",
        "dados = {\n",
        "    \"Produto\": [\"Notebook\", \"Notebook\", \"Smartphone\", \"Smartphone\", \"Tablet\", \"Tablet\"],\n",
        "    \"Região\": [\"Norte\", \"Sul\", \"Norte\", \"Sul\", \"Norte\", \"Sul\"],\n",
        "    \"Ano\": [2023, 2023, 2024, 2024, 2023, 2024],\n",
        "    \"Vendas\": [5000, 4500, 3000, 3500, 2000, 2500],\n",
        "    \"Lucro\": [1000, 900, 800, 850, 300, 400],\n",
        "}\n",
        "\n",
        "df = pd.DataFrame(dados)\n",
        "print(df)\n",
        "\n",
        "coluna_indice = df.stack()\n",
        "print(f\"\\n{coluna_indice}\")\n",
        "\n",
        "reorganizar = coluna_indice.unstack()\n",
        "print(f\"\\n{reorganizar}\")\n",
        "\n",
        "tabela = pd.pivot_table(df, values=\"Lucro\", index=\"Produto\", columns=\"Região\", aggfunc=\"mean\")\n",
        "print(f\"\\n{tabela}\")\n",
        "\n",
        "margens = pd.pivot_table(df, values=\"Lucro\", index=\"Produto\", columns=\"Região\", aggfunc=\"mean\", margins=True)\n",
        "print(f\"\\n{margens}\")"
      ],
      "metadata": {
        "id": "5qjsViy9_EMy",
        "outputId": "35b1c482-3861-45de-ab6c-6f7c738fb2e8",
        "colab": {
          "base_uri": "https://localhost:8080/"
        }
      },
      "execution_count": 44,
      "outputs": [
        {
          "output_type": "stream",
          "name": "stdout",
          "text": [
            "      Produto Região   Ano  Vendas  Lucro\n",
            "0    Notebook  Norte  2023    5000   1000\n",
            "1    Notebook    Sul  2023    4500    900\n",
            "2  Smartphone  Norte  2024    3000    800\n",
            "3  Smartphone    Sul  2024    3500    850\n",
            "4      Tablet  Norte  2023    2000    300\n",
            "5      Tablet    Sul  2024    2500    400\n",
            "\n",
            "0  Produto      Notebook\n",
            "   Região          Norte\n",
            "   Ano              2023\n",
            "   Vendas           5000\n",
            "   Lucro            1000\n",
            "1  Produto      Notebook\n",
            "   Região            Sul\n",
            "   Ano              2023\n",
            "   Vendas           4500\n",
            "   Lucro             900\n",
            "2  Produto    Smartphone\n",
            "   Região          Norte\n",
            "   Ano              2024\n",
            "   Vendas           3000\n",
            "   Lucro             800\n",
            "3  Produto    Smartphone\n",
            "   Região            Sul\n",
            "   Ano              2024\n",
            "   Vendas           3500\n",
            "   Lucro             850\n",
            "4  Produto        Tablet\n",
            "   Região          Norte\n",
            "   Ano              2023\n",
            "   Vendas           2000\n",
            "   Lucro             300\n",
            "5  Produto        Tablet\n",
            "   Região            Sul\n",
            "   Ano              2024\n",
            "   Vendas           2500\n",
            "   Lucro             400\n",
            "dtype: object\n",
            "\n",
            "      Produto Região   Ano Vendas Lucro\n",
            "0    Notebook  Norte  2023   5000  1000\n",
            "1    Notebook    Sul  2023   4500   900\n",
            "2  Smartphone  Norte  2024   3000   800\n",
            "3  Smartphone    Sul  2024   3500   850\n",
            "4      Tablet  Norte  2023   2000   300\n",
            "5      Tablet    Sul  2024   2500   400\n",
            "\n",
            "Região       Norte    Sul\n",
            "Produto                  \n",
            "Notebook    1000.0  900.0\n",
            "Smartphone   800.0  850.0\n",
            "Tablet       300.0  400.0\n",
            "\n",
            "Região       Norte         Sul         All\n",
            "Produto                                   \n",
            "Notebook    1000.0  900.000000  950.000000\n",
            "Smartphone   800.0  850.000000  825.000000\n",
            "Tablet       300.0  400.000000  350.000000\n",
            "All          700.0  716.666667  708.333333\n"
          ]
        }
      ]
    }
  ]
}